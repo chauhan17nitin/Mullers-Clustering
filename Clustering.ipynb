{
  "nbformat": 4,
  "nbformat_minor": 0,
  "metadata": {
    "colab": {
      "name": "Clustering.ipynb",
      "provenance": [],
      "collapsed_sections": [],
      "toc_visible": true,
      "include_colab_link": true
    },
    "kernelspec": {
      "name": "python3",
      "display_name": "Python 3"
    }
  },
  "cells": [
    {
      "cell_type": "markdown",
      "metadata": {
        "id": "view-in-github",
        "colab_type": "text"
      },
      "source": [
        "<a href=\"https://colab.research.google.com/github/hammer1234567/Mullers-Clustering/blob/master/Clustering.ipynb\" target=\"_parent\"><img src=\"https://colab.research.google.com/assets/colab-badge.svg\" alt=\"Open In Colab\"/></a>"
      ]
    },
    {
      "cell_type": "code",
      "metadata": {
        "id": "tjHQ2lyCMcp6",
        "colab_type": "code",
        "outputId": "ca543fe0-50c4-4ceb-98b0-e57a23bd006d",
        "colab": {
          "base_uri": "https://localhost:8080/",
          "height": 124
        }
      },
      "source": [
        "from google.colab import drive\n",
        "drive.mount('/content/drive')"
      ],
      "execution_count": 0,
      "outputs": [
        {
          "output_type": "stream",
          "text": [
            "Go to this URL in a browser: https://accounts.google.com/o/oauth2/auth?client_id=947318989803-6bn6qk8qdgf4n4g3pfee6491hc0brc4i.apps.googleusercontent.com&redirect_uri=urn%3aietf%3awg%3aoauth%3a2.0%3aoob&response_type=code&scope=email%20https%3a%2f%2fwww.googleapis.com%2fauth%2fdocs.test%20https%3a%2f%2fwww.googleapis.com%2fauth%2fdrive%20https%3a%2f%2fwww.googleapis.com%2fauth%2fdrive.photos.readonly%20https%3a%2f%2fwww.googleapis.com%2fauth%2fpeopleapi.readonly\n",
            "\n",
            "Enter your authorization code:\n",
            "··········\n",
            "Mounted at /content/drive\n"
          ],
          "name": "stdout"
        }
      ]
    },
    {
      "cell_type": "code",
      "metadata": {
        "id": "P52Ndd2gMktW",
        "colab_type": "code",
        "colab": {}
      },
      "source": [
        "import pandas as pd\n",
        "import numpy as np\n",
        "import matplotlib.pyplot as plt\n",
        "import nltk"
      ],
      "execution_count": 0,
      "outputs": []
    },
    {
      "cell_type": "code",
      "metadata": {
        "id": "3N_gSDGiM0Gi",
        "colab_type": "code",
        "colab": {}
      },
      "source": [
        "dataset = pd.read_csv('/content/drive/My Drive/Kaggle/Mullers Dataset/mueller_report.csv')"
      ],
      "execution_count": 0,
      "outputs": []
    },
    {
      "cell_type": "code",
      "metadata": {
        "id": "i3I0xpeeNsM1",
        "colab_type": "code",
        "outputId": "7f100fe2-13c8-4442-bd5c-c0e83bade52e",
        "colab": {
          "base_uri": "https://localhost:8080/",
          "height": 206
        }
      },
      "source": [
        "dataset.head()"
      ],
      "execution_count": 0,
      "outputs": [
        {
          "output_type": "execute_result",
          "data": {
            "text/html": [
              "<div>\n",
              "<style scoped>\n",
              "    .dataframe tbody tr th:only-of-type {\n",
              "        vertical-align: middle;\n",
              "    }\n",
              "\n",
              "    .dataframe tbody tr th {\n",
              "        vertical-align: top;\n",
              "    }\n",
              "\n",
              "    .dataframe thead th {\n",
              "        text-align: right;\n",
              "    }\n",
              "</style>\n",
              "<table border=\"1\" class=\"dataframe\">\n",
              "  <thead>\n",
              "    <tr style=\"text-align: right;\">\n",
              "      <th></th>\n",
              "      <th>page</th>\n",
              "      <th>line</th>\n",
              "      <th>text</th>\n",
              "    </tr>\n",
              "  </thead>\n",
              "  <tbody>\n",
              "    <tr>\n",
              "      <th>0</th>\n",
              "      <td>1</td>\n",
              "      <td>1</td>\n",
              "      <td>U.S. Department of Justice</td>\n",
              "    </tr>\n",
              "    <tr>\n",
              "      <th>1</th>\n",
              "      <td>1</td>\n",
              "      <td>2</td>\n",
              "      <td>AttarAe:,c\\\\'erlc Predtiet // Mtt; CeA1:ttiA</td>\n",
              "    </tr>\n",
              "    <tr>\n",
              "      <th>2</th>\n",
              "      <td>1</td>\n",
              "      <td>3</td>\n",
              "      <td>Ma1:ertalPrn1:eetedUAder Fed. R. Crhtt. P. 6(e)</td>\n",
              "    </tr>\n",
              "    <tr>\n",
              "      <th>3</th>\n",
              "      <td>1</td>\n",
              "      <td>4</td>\n",
              "      <td>Report On The Investigation Into</td>\n",
              "    </tr>\n",
              "    <tr>\n",
              "      <th>4</th>\n",
              "      <td>1</td>\n",
              "      <td>5</td>\n",
              "      <td>Russian InterferenceIn The</td>\n",
              "    </tr>\n",
              "  </tbody>\n",
              "</table>\n",
              "</div>"
            ],
            "text/plain": [
              "   page  line                                             text\n",
              "0     1     1                       U.S. Department of Justice\n",
              "1     1     2     AttarAe:,c\\\\'erlc Predtiet // Mtt; CeA1:ttiA\n",
              "2     1     3  Ma1:ertalPrn1:eetedUAder Fed. R. Crhtt. P. 6(e)\n",
              "3     1     4                 Report On The Investigation Into\n",
              "4     1     5                       Russian InterferenceIn The"
            ]
          },
          "metadata": {
            "tags": []
          },
          "execution_count": 4
        }
      ]
    },
    {
      "cell_type": "code",
      "metadata": {
        "id": "kLODn-hC2PsM",
        "colab_type": "code",
        "colab": {}
      },
      "source": [
        "delete_rows = list()\n",
        "for index,row in dataset.iterrows():\n",
        "  if type(row['text']) != str:\n",
        "    delete_rows.append(index)"
      ],
      "execution_count": 0,
      "outputs": []
    },
    {
      "cell_type": "code",
      "metadata": {
        "id": "jcWGQVh_6K6U",
        "colab_type": "code",
        "colab": {}
      },
      "source": [
        "dataset.drop(delete_rows, inplace = True)"
      ],
      "execution_count": 0,
      "outputs": []
    },
    {
      "cell_type": "code",
      "metadata": {
        "id": "LO1n9kHk64sY",
        "colab_type": "code",
        "outputId": "12b43e06-2504-4f18-928a-901cf8453ae0",
        "colab": {
          "base_uri": "https://localhost:8080/",
          "height": 280
        }
      },
      "source": [
        "!pip install Unidecode\n",
        "!pip install word2number"
      ],
      "execution_count": 0,
      "outputs": [
        {
          "output_type": "stream",
          "text": [
            "Collecting Unidecode\n",
            "\u001b[?25l  Downloading https://files.pythonhosted.org/packages/d0/42/d9edfed04228bacea2d824904cae367ee9efd05e6cce7ceaaedd0b0ad964/Unidecode-1.1.1-py2.py3-none-any.whl (238kB)\n",
            "\r\u001b[K     |█▍                              | 10kB 18.0MB/s eta 0:00:01\r\u001b[K     |██▊                             | 20kB 1.8MB/s eta 0:00:01\r\u001b[K     |████▏                           | 30kB 2.3MB/s eta 0:00:01\r\u001b[K     |█████▌                          | 40kB 1.7MB/s eta 0:00:01\r\u001b[K     |██████▉                         | 51kB 1.9MB/s eta 0:00:01\r\u001b[K     |████████▎                       | 61kB 2.3MB/s eta 0:00:01\r\u001b[K     |█████████▋                      | 71kB 2.4MB/s eta 0:00:01\r\u001b[K     |███████████                     | 81kB 2.6MB/s eta 0:00:01\r\u001b[K     |████████████▍                   | 92kB 2.9MB/s eta 0:00:01\r\u001b[K     |█████████████▊                  | 102kB 2.8MB/s eta 0:00:01\r\u001b[K     |███████████████▏                | 112kB 2.8MB/s eta 0:00:01\r\u001b[K     |████████████████▌               | 122kB 2.8MB/s eta 0:00:01\r\u001b[K     |█████████████████▉              | 133kB 2.8MB/s eta 0:00:01\r\u001b[K     |███████████████████▎            | 143kB 2.8MB/s eta 0:00:01\r\u001b[K     |████████████████████▋           | 153kB 2.8MB/s eta 0:00:01\r\u001b[K     |██████████████████████          | 163kB 2.8MB/s eta 0:00:01\r\u001b[K     |███████████████████████▍        | 174kB 2.8MB/s eta 0:00:01\r\u001b[K     |████████████████████████▊       | 184kB 2.8MB/s eta 0:00:01\r\u001b[K     |██████████████████████████▏     | 194kB 2.8MB/s eta 0:00:01\r\u001b[K     |███████████████████████████▌    | 204kB 2.8MB/s eta 0:00:01\r\u001b[K     |████████████████████████████▉   | 215kB 2.8MB/s eta 0:00:01\r\u001b[K     |██████████████████████████████▎ | 225kB 2.8MB/s eta 0:00:01\r\u001b[K     |███████████████████████████████▋| 235kB 2.8MB/s eta 0:00:01\r\u001b[K     |████████████████████████████████| 245kB 2.8MB/s \n",
            "\u001b[?25hInstalling collected packages: Unidecode\n",
            "Successfully installed Unidecode-1.1.1\n",
            "Collecting word2number\n",
            "  Downloading https://files.pythonhosted.org/packages/4a/29/a31940c848521f0725f0df6b25dca8917f13a2025b0e8fcbe5d0457e45e6/word2number-1.1.zip\n",
            "Building wheels for collected packages: word2number\n",
            "  Building wheel for word2number (setup.py) ... \u001b[?25l\u001b[?25hdone\n",
            "  Created wheel for word2number: filename=word2number-1.1-cp36-none-any.whl size=5587 sha256=5e14c9a307699952e4a64ca70e3941758a3ec77d6ea8556571aaaf6238fbf693\n",
            "  Stored in directory: /root/.cache/pip/wheels/46/2f/53/5f5c1d275492f2fce1cdab9a9bb12d49286dead829a4078e0e\n",
            "Successfully built word2number\n",
            "Installing collected packages: word2number\n",
            "Successfully installed word2number-1.1\n"
          ],
          "name": "stdout"
        }
      ]
    },
    {
      "cell_type": "markdown",
      "metadata": {
        "id": "7BbZwrte1DvZ",
        "colab_type": "text"
      },
      "source": [
        "Data PreProcessing"
      ]
    },
    {
      "cell_type": "code",
      "metadata": {
        "id": "y7NEpaNm6KUN",
        "colab_type": "code",
        "colab": {}
      },
      "source": [
        "from bs4 import BeautifulSoup\n",
        "import spacy\n",
        "import unidecode\n",
        "from word2number import w2n\n",
        "import gensim.downloader as api\n",
        "\n",
        "nlp = spacy.load('en_core_web_sm')"
      ],
      "execution_count": 0,
      "outputs": []
    },
    {
      "cell_type": "code",
      "metadata": {
        "id": "6WUkHHzt79SS",
        "colab_type": "code",
        "colab": {}
      },
      "source": [
        "def remove_accented_chars(text):\n",
        "  text = unidecode.unidecode(text)\n",
        "  return text"
      ],
      "execution_count": 0,
      "outputs": []
    },
    {
      "cell_type": "code",
      "metadata": {
        "id": "ROAiVeteJ9T_",
        "colab_type": "code",
        "colab": {}
      },
      "source": [
        "dataset['filter_text'] = dataset['text'].apply(lambda text: remove_accented_chars(text))"
      ],
      "execution_count": 0,
      "outputs": []
    },
    {
      "cell_type": "code",
      "metadata": {
        "id": "ZoXjFoDUAgCH",
        "colab_type": "code",
        "colab": {}
      },
      "source": [
        "def treat_num(text):\n",
        "  doc = nlp(text)\n",
        "  try:\n",
        "    tokens = [w2n.word_to_num(token.text) if token.pos_ == 'NUM' else token for token in doc]\n",
        "    # print(tokens)\n",
        "    rt_text = \" \".join(str(token) for token in tokens)\n",
        "  except:\n",
        "    rt_text = str(doc)\n",
        "  return rt_text"
      ],
      "execution_count": 0,
      "outputs": []
    },
    {
      "cell_type": "code",
      "metadata": {
        "id": "9wy138g2KUsN",
        "colab_type": "code",
        "colab": {}
      },
      "source": [
        "dataset['filter_text'] = dataset['filter_text'].apply(lambda text: treat_num(text))"
      ],
      "execution_count": 0,
      "outputs": []
    },
    {
      "cell_type": "code",
      "metadata": {
        "id": "dYYIR4travKk",
        "colab_type": "code",
        "outputId": "d53ba129-e452-405f-db00-94340e6f7244",
        "colab": {
          "base_uri": "https://localhost:8080/",
          "height": 363
        }
      },
      "source": [
        "dataset.head(10)"
      ],
      "execution_count": 0,
      "outputs": [
        {
          "output_type": "execute_result",
          "data": {
            "text/html": [
              "<div>\n",
              "<style scoped>\n",
              "    .dataframe tbody tr th:only-of-type {\n",
              "        vertical-align: middle;\n",
              "    }\n",
              "\n",
              "    .dataframe tbody tr th {\n",
              "        vertical-align: top;\n",
              "    }\n",
              "\n",
              "    .dataframe thead th {\n",
              "        text-align: right;\n",
              "    }\n",
              "</style>\n",
              "<table border=\"1\" class=\"dataframe\">\n",
              "  <thead>\n",
              "    <tr style=\"text-align: right;\">\n",
              "      <th></th>\n",
              "      <th>page</th>\n",
              "      <th>line</th>\n",
              "      <th>text</th>\n",
              "      <th>filter_text</th>\n",
              "    </tr>\n",
              "  </thead>\n",
              "  <tbody>\n",
              "    <tr>\n",
              "      <th>0</th>\n",
              "      <td>1</td>\n",
              "      <td>1</td>\n",
              "      <td>U.S. Department of Justice</td>\n",
              "      <td>U.S. Department of Justice</td>\n",
              "    </tr>\n",
              "    <tr>\n",
              "      <th>1</th>\n",
              "      <td>1</td>\n",
              "      <td>2</td>\n",
              "      <td>AttarAe:,c\\\\'erlc Predtiet // Mtt; CeA1:ttiA</td>\n",
              "      <td>AttarAe:,c\\\\'erlc Predtiet // Mtt; CeA1:ttiA</td>\n",
              "    </tr>\n",
              "    <tr>\n",
              "      <th>2</th>\n",
              "      <td>1</td>\n",
              "      <td>3</td>\n",
              "      <td>Ma1:ertalPrn1:eetedUAder Fed. R. Crhtt. P. 6(e)</td>\n",
              "      <td>Ma1:ertalPrn1:eetedUAder Fed. R. Crhtt. P. 6(e)</td>\n",
              "    </tr>\n",
              "    <tr>\n",
              "      <th>3</th>\n",
              "      <td>1</td>\n",
              "      <td>4</td>\n",
              "      <td>Report On The Investigation Into</td>\n",
              "      <td>Report On The Investigation Into</td>\n",
              "    </tr>\n",
              "    <tr>\n",
              "      <th>4</th>\n",
              "      <td>1</td>\n",
              "      <td>5</td>\n",
              "      <td>Russian InterferenceIn The</td>\n",
              "      <td>Russian InterferenceIn The</td>\n",
              "    </tr>\n",
              "    <tr>\n",
              "      <th>5</th>\n",
              "      <td>1</td>\n",
              "      <td>6</td>\n",
              "      <td>2016 PresidentialElection</td>\n",
              "      <td>2016 PresidentialElection</td>\n",
              "    </tr>\n",
              "    <tr>\n",
              "      <th>6</th>\n",
              "      <td>1</td>\n",
              "      <td>7</td>\n",
              "      <td>Volume I of II</td>\n",
              "      <td>Volume I of II</td>\n",
              "    </tr>\n",
              "    <tr>\n",
              "      <th>7</th>\n",
              "      <td>1</td>\n",
              "      <td>8</td>\n",
              "      <td>Special Counsel Robert S. Mueller, III</td>\n",
              "      <td>Special Counsel Robert S. Mueller, III</td>\n",
              "    </tr>\n",
              "    <tr>\n",
              "      <th>8</th>\n",
              "      <td>1</td>\n",
              "      <td>9</td>\n",
              "      <td>Submitted Pursuant to 28 C.F.R. § 600.8(c)</td>\n",
              "      <td>Submitted Pursuant to 28 C.F.R. SS 600.8(c)</td>\n",
              "    </tr>\n",
              "    <tr>\n",
              "      <th>9</th>\n",
              "      <td>1</td>\n",
              "      <td>10</td>\n",
              "      <td>Washington, D.C.</td>\n",
              "      <td>Washington, D.C.</td>\n",
              "    </tr>\n",
              "  </tbody>\n",
              "</table>\n",
              "</div>"
            ],
            "text/plain": [
              "   page  ...                                      filter_text\n",
              "0     1  ...                       U.S. Department of Justice\n",
              "1     1  ...     AttarAe:,c\\\\'erlc Predtiet // Mtt; CeA1:ttiA\n",
              "2     1  ...  Ma1:ertalPrn1:eetedUAder Fed. R. Crhtt. P. 6(e)\n",
              "3     1  ...                 Report On The Investigation Into\n",
              "4     1  ...                       Russian InterferenceIn The\n",
              "5     1  ...                        2016 PresidentialElection\n",
              "6     1  ...                                   Volume I of II\n",
              "7     1  ...           Special Counsel Robert S. Mueller, III\n",
              "8     1  ...      Submitted Pursuant to 28 C.F.R. SS 600.8(c)\n",
              "9     1  ...                                 Washington, D.C.\n",
              "\n",
              "[10 rows x 4 columns]"
            ]
          },
          "metadata": {
            "tags": []
          },
          "execution_count": 12
        }
      ]
    },
    {
      "cell_type": "code",
      "metadata": {
        "id": "XqT262ALPA_m",
        "colab_type": "code",
        "outputId": "811ae4fa-7e61-4641-f9e1-de5ec8e9f212",
        "colab": {
          "base_uri": "https://localhost:8080/",
          "height": 52
        }
      },
      "source": [
        "from nltk.stem import WordNetLemmatizer \n",
        "nltk.download('wordnet')\n",
        "lemmatizer = WordNetLemmatizer() \n",
        "\n",
        "dataset['filter_text'] = dataset['filter_text'].apply(lambda text: \" \".join(lemmatizer.lemmatize(tokens) for tokens in text.split(\" \")))\n"
      ],
      "execution_count": 0,
      "outputs": [
        {
          "output_type": "stream",
          "text": [
            "[nltk_data] Downloading package wordnet to /root/nltk_data...\n",
            "[nltk_data]   Unzipping corpora/wordnet.zip.\n"
          ],
          "name": "stdout"
        }
      ]
    },
    {
      "cell_type": "code",
      "metadata": {
        "id": "pAhoSGQw7nh0",
        "colab_type": "code",
        "outputId": "1ada9a2c-29a3-46e0-fcce-0d22d08c1443",
        "colab": {
          "base_uri": "https://localhost:8080/",
          "height": 52
        }
      },
      "source": [
        "from nltk.corpus import stopwords\n",
        "nltk.download('stopwords')\n",
        "\n",
        "stop = stopwords.words(\"english\")\n",
        "dataset['filter_text'] = dataset['filter_text'].apply(lambda text: \" \".join(x for x in text.split(\" \") if x not in stop))"
      ],
      "execution_count": 0,
      "outputs": [
        {
          "output_type": "stream",
          "text": [
            "[nltk_data] Downloading package stopwords to /root/nltk_data...\n",
            "[nltk_data]   Unzipping corpora/stopwords.zip.\n"
          ],
          "name": "stdout"
        }
      ]
    },
    {
      "cell_type": "code",
      "metadata": {
        "id": "3ggLNnltvX6N",
        "colab_type": "code",
        "colab": {}
      },
      "source": [
        "dataset['filter_text'] = dataset['filter_text'].str.replace('[^\\w\\s]', '')\n",
        "dataset['filter_text'] = dataset['filter_text'].str.replace('[\\d-]', '')\n",
        "dataset['filter_text'] = dataset['filter_text'].apply(lambda text: \"\".join(x.lower() for x in text).rstrip()) "
      ],
      "execution_count": 0,
      "outputs": []
    },
    {
      "cell_type": "code",
      "metadata": {
        "id": "8PWFtbF7qKpR",
        "colab_type": "code",
        "outputId": "013f137d-fd6e-4901-d3b0-e948460374fe",
        "colab": {
          "base_uri": "https://localhost:8080/",
          "height": 206
        }
      },
      "source": [
        "dataset.head()"
      ],
      "execution_count": 0,
      "outputs": [
        {
          "output_type": "execute_result",
          "data": {
            "text/html": [
              "<div>\n",
              "<style scoped>\n",
              "    .dataframe tbody tr th:only-of-type {\n",
              "        vertical-align: middle;\n",
              "    }\n",
              "\n",
              "    .dataframe tbody tr th {\n",
              "        vertical-align: top;\n",
              "    }\n",
              "\n",
              "    .dataframe thead th {\n",
              "        text-align: right;\n",
              "    }\n",
              "</style>\n",
              "<table border=\"1\" class=\"dataframe\">\n",
              "  <thead>\n",
              "    <tr style=\"text-align: right;\">\n",
              "      <th></th>\n",
              "      <th>page</th>\n",
              "      <th>line</th>\n",
              "      <th>text</th>\n",
              "      <th>filter_text</th>\n",
              "    </tr>\n",
              "  </thead>\n",
              "  <tbody>\n",
              "    <tr>\n",
              "      <th>0</th>\n",
              "      <td>1</td>\n",
              "      <td>1</td>\n",
              "      <td>U.S. Department of Justice</td>\n",
              "      <td>us department justice</td>\n",
              "    </tr>\n",
              "    <tr>\n",
              "      <th>1</th>\n",
              "      <td>1</td>\n",
              "      <td>2</td>\n",
              "      <td>AttarAe:,c\\\\'erlc Predtiet // Mtt; CeA1:ttiA</td>\n",
              "      <td>attaraecerlc predtiet  mtt ceattia</td>\n",
              "    </tr>\n",
              "    <tr>\n",
              "      <th>2</th>\n",
              "      <td>1</td>\n",
              "      <td>3</td>\n",
              "      <td>Ma1:ertalPrn1:eetedUAder Fed. R. Crhtt. P. 6(e)</td>\n",
              "      <td>maertalprneeteduader fed r crhtt p e</td>\n",
              "    </tr>\n",
              "    <tr>\n",
              "      <th>3</th>\n",
              "      <td>1</td>\n",
              "      <td>4</td>\n",
              "      <td>Report On The Investigation Into</td>\n",
              "      <td>report on the investigation into</td>\n",
              "    </tr>\n",
              "    <tr>\n",
              "      <th>4</th>\n",
              "      <td>1</td>\n",
              "      <td>5</td>\n",
              "      <td>Russian InterferenceIn The</td>\n",
              "      <td>russian interferencein the</td>\n",
              "    </tr>\n",
              "  </tbody>\n",
              "</table>\n",
              "</div>"
            ],
            "text/plain": [
              "   page  ...                           filter_text\n",
              "0     1  ...                 us department justice\n",
              "1     1  ...    attaraecerlc predtiet  mtt ceattia\n",
              "2     1  ...  maertalprneeteduader fed r crhtt p e\n",
              "3     1  ...      report on the investigation into\n",
              "4     1  ...            russian interferencein the\n",
              "\n",
              "[5 rows x 4 columns]"
            ]
          },
          "metadata": {
            "tags": []
          },
          "execution_count": 69
        }
      ]
    },
    {
      "cell_type": "code",
      "metadata": {
        "id": "VHErimcEo6FH",
        "colab_type": "code",
        "outputId": "20fd2cda-5dea-41aa-bc4f-93db57f96bc0",
        "colab": {
          "base_uri": "https://localhost:8080/",
          "height": 69
        }
      },
      "source": [
        "import nltk\n",
        "nltk.download('punkt')"
      ],
      "execution_count": 0,
      "outputs": [
        {
          "output_type": "stream",
          "text": [
            "[nltk_data] Downloading package punkt to /root/nltk_data...\n",
            "[nltk_data]   Unzipping tokenizers/punkt.zip.\n"
          ],
          "name": "stdout"
        },
        {
          "output_type": "execute_result",
          "data": {
            "text/plain": [
              "True"
            ]
          },
          "metadata": {
            "tags": []
          },
          "execution_count": 71
        }
      ]
    },
    {
      "cell_type": "code",
      "metadata": {
        "colab_type": "code",
        "id": "Qq7AtDY7ptzu",
        "colab": {}
      },
      "source": [
        "from nltk.tokenize import word_tokenize\n",
        "\n",
        "def apply_tokenization(cols):\n",
        "   text = cols[0]\n",
        "\n",
        "   return word_tokenize(text)\n",
        "dataset['final_text'] = dataset[['filter_text']].apply(apply_tokenization, axis = 1)"
      ],
      "execution_count": 0,
      "outputs": []
    },
    {
      "cell_type": "code",
      "metadata": {
        "id": "kkhqDrMWpudV",
        "colab_type": "code",
        "outputId": "a7ca8f18-8604-413c-f837-c814c847a2df",
        "colab": {
          "base_uri": "https://localhost:8080/",
          "height": 206
        }
      },
      "source": [
        "dataset.head()"
      ],
      "execution_count": 0,
      "outputs": [
        {
          "output_type": "execute_result",
          "data": {
            "text/html": [
              "<div>\n",
              "<style scoped>\n",
              "    .dataframe tbody tr th:only-of-type {\n",
              "        vertical-align: middle;\n",
              "    }\n",
              "\n",
              "    .dataframe tbody tr th {\n",
              "        vertical-align: top;\n",
              "    }\n",
              "\n",
              "    .dataframe thead th {\n",
              "        text-align: right;\n",
              "    }\n",
              "</style>\n",
              "<table border=\"1\" class=\"dataframe\">\n",
              "  <thead>\n",
              "    <tr style=\"text-align: right;\">\n",
              "      <th></th>\n",
              "      <th>page</th>\n",
              "      <th>line</th>\n",
              "      <th>text</th>\n",
              "      <th>filter_text</th>\n",
              "      <th>final_text</th>\n",
              "    </tr>\n",
              "  </thead>\n",
              "  <tbody>\n",
              "    <tr>\n",
              "      <th>0</th>\n",
              "      <td>1</td>\n",
              "      <td>1</td>\n",
              "      <td>U.S. Department of Justice</td>\n",
              "      <td>us department justice</td>\n",
              "      <td>[us, department, justice]</td>\n",
              "    </tr>\n",
              "    <tr>\n",
              "      <th>1</th>\n",
              "      <td>1</td>\n",
              "      <td>2</td>\n",
              "      <td>AttarAe:,c\\\\'erlc Predtiet // Mtt; CeA1:ttiA</td>\n",
              "      <td>attaraecerlc predtiet  mtt ceattia</td>\n",
              "      <td>[attaraecerlc, predtiet, mtt, ceattia]</td>\n",
              "    </tr>\n",
              "    <tr>\n",
              "      <th>2</th>\n",
              "      <td>1</td>\n",
              "      <td>3</td>\n",
              "      <td>Ma1:ertalPrn1:eetedUAder Fed. R. Crhtt. P. 6(e)</td>\n",
              "      <td>maertalprneeteduader fed r crhtt p e</td>\n",
              "      <td>[maertalprneeteduader, fed, r, crhtt, p, e]</td>\n",
              "    </tr>\n",
              "    <tr>\n",
              "      <th>3</th>\n",
              "      <td>1</td>\n",
              "      <td>4</td>\n",
              "      <td>Report On The Investigation Into</td>\n",
              "      <td>report on the investigation into</td>\n",
              "      <td>[report, on, the, investigation, into]</td>\n",
              "    </tr>\n",
              "    <tr>\n",
              "      <th>4</th>\n",
              "      <td>1</td>\n",
              "      <td>5</td>\n",
              "      <td>Russian InterferenceIn The</td>\n",
              "      <td>russian interferencein the</td>\n",
              "      <td>[russian, interferencein, the]</td>\n",
              "    </tr>\n",
              "  </tbody>\n",
              "</table>\n",
              "</div>"
            ],
            "text/plain": [
              "   page  ...                                   final_text\n",
              "0     1  ...                    [us, department, justice]\n",
              "1     1  ...       [attaraecerlc, predtiet, mtt, ceattia]\n",
              "2     1  ...  [maertalprneeteduader, fed, r, crhtt, p, e]\n",
              "3     1  ...       [report, on, the, investigation, into]\n",
              "4     1  ...               [russian, interferencein, the]\n",
              "\n",
              "[5 rows x 5 columns]"
            ]
          },
          "metadata": {
            "tags": []
          },
          "execution_count": 74
        }
      ]
    },
    {
      "cell_type": "code",
      "metadata": {
        "id": "xNNfovjmtDa7",
        "colab_type": "code",
        "colab": {}
      },
      "source": [
        "import gzip\n",
        "import shutil\n",
        "with gzip.open('/content/drive/My Drive/Kaggle/Mullers Dataset/GoogleNews-vectors-negative300.bin.gz', 'rb') as f_in:\n",
        "    with open('/content/drive/My Drive/Kaggle/Mullers Dataset/GoogleNews-vectors-negative300.bin', 'wb') as f_out:\n",
        "        shutil.copyfileobj(f_in, f_out)"
      ],
      "execution_count": 0,
      "outputs": []
    },
    {
      "cell_type": "code",
      "metadata": {
        "id": "32__cMB8p-ag",
        "colab_type": "code",
        "outputId": "0ca4b126-9e06-4a70-cb05-f955b2c271dc",
        "colab": {
          "base_uri": "https://localhost:8080/",
          "height": 72
        }
      },
      "source": [
        "import gensim\n",
        "model = gensim.models.KeyedVectors.load_word2vec_format('/content/drive/My Drive/Kaggle/Mullers Dataset/GoogleNews-vectors-negative300.bin', binary = True)"
      ],
      "execution_count": 0,
      "outputs": [
        {
          "output_type": "stream",
          "text": [
            "/usr/local/lib/python3.6/dist-packages/smart_open/smart_open_lib.py:402: UserWarning: This function is deprecated, use smart_open.open instead. See the migration notes for details: https://github.com/RaRe-Technologies/smart_open/blob/master/README.rst#migrating-to-the-new-open-function\n",
            "  'See the migration notes for details: %s' % _MIGRATION_NOTES_URL\n"
          ],
          "name": "stderr"
        }
      ]
    },
    {
      "cell_type": "code",
      "metadata": {
        "id": "_x9f0utevAs6",
        "colab_type": "code",
        "outputId": "150620b3-2ba4-460c-cf4c-cd8f00aaeca4",
        "colab": {
          "base_uri": "https://localhost:8080/",
          "height": 34
        }
      },
      "source": [
        "model.vector_size"
      ],
      "execution_count": 0,
      "outputs": [
        {
          "output_type": "execute_result",
          "data": {
            "text/plain": [
              "300"
            ]
          },
          "metadata": {
            "tags": []
          },
          "execution_count": 80
        }
      ]
    },
    {
      "cell_type": "code",
      "metadata": {
        "id": "ZG-sQYuGvH6A",
        "colab_type": "code",
        "colab": {}
      },
      "source": [
        "output = model['us', 'department', 'justice']"
      ],
      "execution_count": 0,
      "outputs": []
    },
    {
      "cell_type": "code",
      "metadata": {
        "id": "E_QEyglyyA5r",
        "colab_type": "code",
        "outputId": "477b78b1-886e-47fb-b430-ee3372b9a144",
        "colab": {
          "base_uri": "https://localhost:8080/",
          "height": 34
        }
      },
      "source": [
        "output.shape"
      ],
      "execution_count": 0,
      "outputs": [
        {
          "output_type": "execute_result",
          "data": {
            "text/plain": [
              "(3, 300)"
            ]
          },
          "metadata": {
            "tags": []
          },
          "execution_count": 91
        }
      ]
    },
    {
      "cell_type": "code",
      "metadata": {
        "id": "ITzAmNcixVgl",
        "colab_type": "code",
        "colab": {}
      },
      "source": [
        "def apply_word2vec(cols):\n",
        "  final_text = cols[0]\n",
        "\n",
        "  return model[final_text]"
      ],
      "execution_count": 0,
      "outputs": []
    },
    {
      "cell_type": "code",
      "metadata": {
        "id": "DcA4c6Y8x4mG",
        "colab_type": "code",
        "colab": {}
      },
      "source": [
        "dataset = "
      ],
      "execution_count": 0,
      "outputs": []
    },
    {
      "cell_type": "code",
      "metadata": {
        "id": "pXRsq5g4yzkJ",
        "colab_type": "code",
        "colab": {}
      },
      "source": [
        "from sklearn.feature_extraction.text import TfidfVectorizer\n",
        "tfidf_vectorizer = TfidfVectorizer(stop_words=\"english\", max_features=100)\n",
        "\n",
        "tfidf_dataset = tfidf_vectorizer.fit_transform(dataset['filter_text'])"
      ],
      "execution_count": 0,
      "outputs": []
    },
    {
      "cell_type": "code",
      "metadata": {
        "id": "TKv-5IKUb64T",
        "colab_type": "code",
        "outputId": "746e0e09-55f3-4591-ecb6-e2073de5170b",
        "colab": {
          "base_uri": "https://localhost:8080/",
          "height": 52
        }
      },
      "source": [
        "tfidf_dataset"
      ],
      "execution_count": 0,
      "outputs": [
        {
          "output_type": "execute_result",
          "data": {
            "text/plain": [
              "<18747x11072 sparse matrix of type '<class 'numpy.float64'>'\n",
              "\twith 110968 stored elements in Compressed Sparse Row format>"
            ]
          },
          "metadata": {
            "tags": []
          },
          "execution_count": 46
        }
      ]
    },
    {
      "cell_type": "code",
      "metadata": {
        "id": "diQu7YOwjxO6",
        "colab_type": "code",
        "colab": {}
      },
      "source": [
        "from sklearn.preprocessing import normalize\n",
        "tfidf_norm = normalize(tfidf_dataset)\n",
        "x = tfidf_norm.toarray()"
      ],
      "execution_count": 0,
      "outputs": []
    },
    {
      "cell_type": "code",
      "metadata": {
        "id": "L18Ci-aONU4c",
        "colab_type": "code",
        "outputId": "5ac4fa85-f3e7-4483-e93f-fd22c0bbba6e",
        "colab": {
          "base_uri": "https://localhost:8080/",
          "height": 34
        }
      },
      "source": [
        "x.std()"
      ],
      "execution_count": 0,
      "outputs": [
        {
          "output_type": "execute_result",
          "data": {
            "text/plain": [
              "0.08253045945250254"
            ]
          },
          "metadata": {
            "tags": []
          },
          "execution_count": 26
        }
      ]
    },
    {
      "cell_type": "code",
      "metadata": {
        "id": "YYmKP8oMLURg",
        "colab_type": "code",
        "colab": {}
      },
      "source": [
        "x = pd.DataFrame(tfidf_norm.todense())"
      ],
      "execution_count": 0,
      "outputs": []
    },
    {
      "cell_type": "code",
      "metadata": {
        "id": "9pPFJsy4QvDY",
        "colab_type": "code",
        "outputId": "2e4a7d06-663c-4bfd-a780-11038340b217",
        "colab": {
          "base_uri": "https://localhost:8080/",
          "height": 206
        }
      },
      "source": [
        "x.head()"
      ],
      "execution_count": 0,
      "outputs": [
        {
          "output_type": "execute_result",
          "data": {
            "text/html": [
              "<div>\n",
              "<style scoped>\n",
              "    .dataframe tbody tr th:only-of-type {\n",
              "        vertical-align: middle;\n",
              "    }\n",
              "\n",
              "    .dataframe tbody tr th {\n",
              "        vertical-align: top;\n",
              "    }\n",
              "\n",
              "    .dataframe thead th {\n",
              "        text-align: right;\n",
              "    }\n",
              "</style>\n",
              "<table border=\"1\" class=\"dataframe\">\n",
              "  <thead>\n",
              "    <tr style=\"text-align: right;\">\n",
              "      <th></th>\n",
              "      <th>0</th>\n",
              "      <th>1</th>\n",
              "      <th>2</th>\n",
              "      <th>3</th>\n",
              "      <th>4</th>\n",
              "      <th>5</th>\n",
              "      <th>6</th>\n",
              "      <th>7</th>\n",
              "      <th>8</th>\n",
              "      <th>9</th>\n",
              "    </tr>\n",
              "  </thead>\n",
              "  <tbody>\n",
              "    <tr>\n",
              "      <th>0</th>\n",
              "      <td>0.0</td>\n",
              "      <td>0.0</td>\n",
              "      <td>0.0</td>\n",
              "      <td>0.0</td>\n",
              "      <td>1.0</td>\n",
              "      <td>0.0</td>\n",
              "      <td>0.0</td>\n",
              "      <td>0.0</td>\n",
              "      <td>0.0</td>\n",
              "      <td>0.0</td>\n",
              "    </tr>\n",
              "    <tr>\n",
              "      <th>1</th>\n",
              "      <td>0.0</td>\n",
              "      <td>0.0</td>\n",
              "      <td>0.0</td>\n",
              "      <td>0.0</td>\n",
              "      <td>0.0</td>\n",
              "      <td>0.0</td>\n",
              "      <td>0.0</td>\n",
              "      <td>0.0</td>\n",
              "      <td>0.0</td>\n",
              "      <td>0.0</td>\n",
              "    </tr>\n",
              "    <tr>\n",
              "      <th>2</th>\n",
              "      <td>0.0</td>\n",
              "      <td>0.0</td>\n",
              "      <td>0.0</td>\n",
              "      <td>0.0</td>\n",
              "      <td>0.0</td>\n",
              "      <td>0.0</td>\n",
              "      <td>0.0</td>\n",
              "      <td>0.0</td>\n",
              "      <td>0.0</td>\n",
              "      <td>0.0</td>\n",
              "    </tr>\n",
              "    <tr>\n",
              "      <th>3</th>\n",
              "      <td>0.0</td>\n",
              "      <td>0.0</td>\n",
              "      <td>0.0</td>\n",
              "      <td>1.0</td>\n",
              "      <td>0.0</td>\n",
              "      <td>0.0</td>\n",
              "      <td>0.0</td>\n",
              "      <td>0.0</td>\n",
              "      <td>0.0</td>\n",
              "      <td>0.0</td>\n",
              "    </tr>\n",
              "    <tr>\n",
              "      <th>4</th>\n",
              "      <td>0.0</td>\n",
              "      <td>0.0</td>\n",
              "      <td>0.0</td>\n",
              "      <td>0.0</td>\n",
              "      <td>0.0</td>\n",
              "      <td>0.0</td>\n",
              "      <td>0.0</td>\n",
              "      <td>1.0</td>\n",
              "      <td>0.0</td>\n",
              "      <td>0.0</td>\n",
              "    </tr>\n",
              "  </tbody>\n",
              "</table>\n",
              "</div>"
            ],
            "text/plain": [
              "     0    1    2    3    4    5    6    7    8    9\n",
              "0  0.0  0.0  0.0  0.0  1.0  0.0  0.0  0.0  0.0  0.0\n",
              "1  0.0  0.0  0.0  0.0  0.0  0.0  0.0  0.0  0.0  0.0\n",
              "2  0.0  0.0  0.0  0.0  0.0  0.0  0.0  0.0  0.0  0.0\n",
              "3  0.0  0.0  0.0  1.0  0.0  0.0  0.0  0.0  0.0  0.0\n",
              "4  0.0  0.0  0.0  0.0  0.0  0.0  0.0  1.0  0.0  0.0"
            ]
          },
          "metadata": {
            "tags": []
          },
          "execution_count": 32
        }
      ]
    },
    {
      "cell_type": "code",
      "metadata": {
        "id": "nDk2Ci0acWxO",
        "colab_type": "code",
        "colab": {}
      },
      "source": [
        "from sklearn.feature_extraction.text import HashingVectorizer\n",
        "\n",
        "vectorizer = HashingVectorizer(n_features = 100)\n",
        "sentence_vector = vectorizer.fit_transform(dataset['filter_text'])"
      ],
      "execution_count": 0,
      "outputs": []
    },
    {
      "cell_type": "code",
      "metadata": {
        "id": "11fn4-o0c9la",
        "colab_type": "code",
        "colab": {}
      },
      "source": [
        "from sklearn.preprocessing import normalize\n",
        "sentence_norm = normalize(sentence_vector)\n",
        "\n",
        "sentence_final = pd.DataFrame(sentence_norm.todense())"
      ],
      "execution_count": 0,
      "outputs": []
    },
    {
      "cell_type": "code",
      "metadata": {
        "id": "4hN0fg_3eM_J",
        "colab_type": "code",
        "outputId": "099b3dde-e413-4f90-f56e-ddc632ad2098",
        "colab": {
          "base_uri": "https://localhost:8080/",
          "height": 255
        }
      },
      "source": [
        "sentence_final.head()"
      ],
      "execution_count": 0,
      "outputs": [
        {
          "output_type": "execute_result",
          "data": {
            "text/html": [
              "<div>\n",
              "<style scoped>\n",
              "    .dataframe tbody tr th:only-of-type {\n",
              "        vertical-align: middle;\n",
              "    }\n",
              "\n",
              "    .dataframe tbody tr th {\n",
              "        vertical-align: top;\n",
              "    }\n",
              "\n",
              "    .dataframe thead th {\n",
              "        text-align: right;\n",
              "    }\n",
              "</style>\n",
              "<table border=\"1\" class=\"dataframe\">\n",
              "  <thead>\n",
              "    <tr style=\"text-align: right;\">\n",
              "      <th></th>\n",
              "      <th>0</th>\n",
              "      <th>1</th>\n",
              "      <th>2</th>\n",
              "      <th>3</th>\n",
              "      <th>4</th>\n",
              "      <th>5</th>\n",
              "      <th>6</th>\n",
              "      <th>7</th>\n",
              "      <th>8</th>\n",
              "      <th>9</th>\n",
              "      <th>10</th>\n",
              "      <th>11</th>\n",
              "      <th>12</th>\n",
              "      <th>13</th>\n",
              "      <th>14</th>\n",
              "      <th>15</th>\n",
              "      <th>16</th>\n",
              "      <th>17</th>\n",
              "      <th>18</th>\n",
              "      <th>19</th>\n",
              "      <th>20</th>\n",
              "      <th>21</th>\n",
              "      <th>22</th>\n",
              "      <th>23</th>\n",
              "      <th>24</th>\n",
              "      <th>25</th>\n",
              "      <th>26</th>\n",
              "      <th>27</th>\n",
              "      <th>28</th>\n",
              "      <th>29</th>\n",
              "      <th>30</th>\n",
              "      <th>31</th>\n",
              "      <th>32</th>\n",
              "      <th>33</th>\n",
              "      <th>34</th>\n",
              "      <th>35</th>\n",
              "      <th>36</th>\n",
              "      <th>37</th>\n",
              "      <th>38</th>\n",
              "      <th>39</th>\n",
              "      <th>...</th>\n",
              "      <th>60</th>\n",
              "      <th>61</th>\n",
              "      <th>62</th>\n",
              "      <th>63</th>\n",
              "      <th>64</th>\n",
              "      <th>65</th>\n",
              "      <th>66</th>\n",
              "      <th>67</th>\n",
              "      <th>68</th>\n",
              "      <th>69</th>\n",
              "      <th>70</th>\n",
              "      <th>71</th>\n",
              "      <th>72</th>\n",
              "      <th>73</th>\n",
              "      <th>74</th>\n",
              "      <th>75</th>\n",
              "      <th>76</th>\n",
              "      <th>77</th>\n",
              "      <th>78</th>\n",
              "      <th>79</th>\n",
              "      <th>80</th>\n",
              "      <th>81</th>\n",
              "      <th>82</th>\n",
              "      <th>83</th>\n",
              "      <th>84</th>\n",
              "      <th>85</th>\n",
              "      <th>86</th>\n",
              "      <th>87</th>\n",
              "      <th>88</th>\n",
              "      <th>89</th>\n",
              "      <th>90</th>\n",
              "      <th>91</th>\n",
              "      <th>92</th>\n",
              "      <th>93</th>\n",
              "      <th>94</th>\n",
              "      <th>95</th>\n",
              "      <th>96</th>\n",
              "      <th>97</th>\n",
              "      <th>98</th>\n",
              "      <th>99</th>\n",
              "    </tr>\n",
              "  </thead>\n",
              "  <tbody>\n",
              "    <tr>\n",
              "      <th>0</th>\n",
              "      <td>0.0</td>\n",
              "      <td>0.0</td>\n",
              "      <td>0.0</td>\n",
              "      <td>0.0</td>\n",
              "      <td>0.0</td>\n",
              "      <td>0.000000</td>\n",
              "      <td>0.0</td>\n",
              "      <td>0.00000</td>\n",
              "      <td>0.0</td>\n",
              "      <td>0.0</td>\n",
              "      <td>0.0</td>\n",
              "      <td>0.000000</td>\n",
              "      <td>0.0</td>\n",
              "      <td>0.0</td>\n",
              "      <td>0.0</td>\n",
              "      <td>0.0</td>\n",
              "      <td>0.0</td>\n",
              "      <td>0.0</td>\n",
              "      <td>0.0</td>\n",
              "      <td>0.0</td>\n",
              "      <td>0.0</td>\n",
              "      <td>0.0</td>\n",
              "      <td>0.0</td>\n",
              "      <td>0.0</td>\n",
              "      <td>0.0</td>\n",
              "      <td>0.0</td>\n",
              "      <td>0.0</td>\n",
              "      <td>0.0</td>\n",
              "      <td>0.0</td>\n",
              "      <td>0.0</td>\n",
              "      <td>0.0</td>\n",
              "      <td>0.0</td>\n",
              "      <td>0.0</td>\n",
              "      <td>0.0</td>\n",
              "      <td>0.0</td>\n",
              "      <td>0.0</td>\n",
              "      <td>0.0</td>\n",
              "      <td>0.0</td>\n",
              "      <td>0.0</td>\n",
              "      <td>0.0</td>\n",
              "      <td>...</td>\n",
              "      <td>0.57735</td>\n",
              "      <td>0.0</td>\n",
              "      <td>0.000000</td>\n",
              "      <td>0.0</td>\n",
              "      <td>0.0</td>\n",
              "      <td>0.0</td>\n",
              "      <td>0.0</td>\n",
              "      <td>0.0</td>\n",
              "      <td>0.0</td>\n",
              "      <td>0.0</td>\n",
              "      <td>0.0</td>\n",
              "      <td>0.0</td>\n",
              "      <td>0.0</td>\n",
              "      <td>0.0</td>\n",
              "      <td>0.0</td>\n",
              "      <td>0.0</td>\n",
              "      <td>0.00000</td>\n",
              "      <td>0.0</td>\n",
              "      <td>0.0</td>\n",
              "      <td>0.57735</td>\n",
              "      <td>0.0</td>\n",
              "      <td>0.0</td>\n",
              "      <td>0.0</td>\n",
              "      <td>0.0</td>\n",
              "      <td>0.000000</td>\n",
              "      <td>0.0</td>\n",
              "      <td>0.0</td>\n",
              "      <td>0.0</td>\n",
              "      <td>0.00000</td>\n",
              "      <td>0.0</td>\n",
              "      <td>0.0</td>\n",
              "      <td>0.00000</td>\n",
              "      <td>0.0</td>\n",
              "      <td>0.0</td>\n",
              "      <td>0.0</td>\n",
              "      <td>0.0</td>\n",
              "      <td>-0.57735</td>\n",
              "      <td>0.0</td>\n",
              "      <td>0.0</td>\n",
              "      <td>0.0</td>\n",
              "    </tr>\n",
              "    <tr>\n",
              "      <th>1</th>\n",
              "      <td>0.0</td>\n",
              "      <td>0.0</td>\n",
              "      <td>0.0</td>\n",
              "      <td>0.0</td>\n",
              "      <td>0.0</td>\n",
              "      <td>0.000000</td>\n",
              "      <td>0.0</td>\n",
              "      <td>0.00000</td>\n",
              "      <td>0.0</td>\n",
              "      <td>0.0</td>\n",
              "      <td>0.0</td>\n",
              "      <td>0.000000</td>\n",
              "      <td>0.0</td>\n",
              "      <td>0.0</td>\n",
              "      <td>0.0</td>\n",
              "      <td>0.0</td>\n",
              "      <td>0.0</td>\n",
              "      <td>0.0</td>\n",
              "      <td>0.0</td>\n",
              "      <td>0.0</td>\n",
              "      <td>0.0</td>\n",
              "      <td>0.0</td>\n",
              "      <td>0.5</td>\n",
              "      <td>0.0</td>\n",
              "      <td>0.0</td>\n",
              "      <td>0.0</td>\n",
              "      <td>0.0</td>\n",
              "      <td>0.0</td>\n",
              "      <td>0.0</td>\n",
              "      <td>0.0</td>\n",
              "      <td>0.0</td>\n",
              "      <td>0.0</td>\n",
              "      <td>0.0</td>\n",
              "      <td>0.0</td>\n",
              "      <td>0.0</td>\n",
              "      <td>0.0</td>\n",
              "      <td>0.0</td>\n",
              "      <td>0.0</td>\n",
              "      <td>0.0</td>\n",
              "      <td>0.0</td>\n",
              "      <td>...</td>\n",
              "      <td>0.00000</td>\n",
              "      <td>0.0</td>\n",
              "      <td>0.000000</td>\n",
              "      <td>0.0</td>\n",
              "      <td>0.0</td>\n",
              "      <td>0.0</td>\n",
              "      <td>0.0</td>\n",
              "      <td>0.0</td>\n",
              "      <td>0.0</td>\n",
              "      <td>0.0</td>\n",
              "      <td>0.0</td>\n",
              "      <td>0.0</td>\n",
              "      <td>0.0</td>\n",
              "      <td>0.0</td>\n",
              "      <td>0.0</td>\n",
              "      <td>0.0</td>\n",
              "      <td>-0.50000</td>\n",
              "      <td>0.0</td>\n",
              "      <td>0.0</td>\n",
              "      <td>0.00000</td>\n",
              "      <td>0.0</td>\n",
              "      <td>0.5</td>\n",
              "      <td>0.0</td>\n",
              "      <td>0.0</td>\n",
              "      <td>0.500000</td>\n",
              "      <td>0.0</td>\n",
              "      <td>0.0</td>\n",
              "      <td>0.0</td>\n",
              "      <td>0.00000</td>\n",
              "      <td>0.0</td>\n",
              "      <td>0.0</td>\n",
              "      <td>0.00000</td>\n",
              "      <td>0.0</td>\n",
              "      <td>0.0</td>\n",
              "      <td>0.0</td>\n",
              "      <td>0.0</td>\n",
              "      <td>0.00000</td>\n",
              "      <td>0.0</td>\n",
              "      <td>0.0</td>\n",
              "      <td>0.0</td>\n",
              "    </tr>\n",
              "    <tr>\n",
              "      <th>2</th>\n",
              "      <td>0.0</td>\n",
              "      <td>0.0</td>\n",
              "      <td>0.0</td>\n",
              "      <td>0.0</td>\n",
              "      <td>0.0</td>\n",
              "      <td>0.000000</td>\n",
              "      <td>0.0</td>\n",
              "      <td>0.57735</td>\n",
              "      <td>0.0</td>\n",
              "      <td>0.0</td>\n",
              "      <td>0.0</td>\n",
              "      <td>0.000000</td>\n",
              "      <td>0.0</td>\n",
              "      <td>0.0</td>\n",
              "      <td>0.0</td>\n",
              "      <td>0.0</td>\n",
              "      <td>0.0</td>\n",
              "      <td>0.0</td>\n",
              "      <td>0.0</td>\n",
              "      <td>0.0</td>\n",
              "      <td>0.0</td>\n",
              "      <td>0.0</td>\n",
              "      <td>0.0</td>\n",
              "      <td>0.0</td>\n",
              "      <td>0.0</td>\n",
              "      <td>0.0</td>\n",
              "      <td>0.0</td>\n",
              "      <td>0.0</td>\n",
              "      <td>0.0</td>\n",
              "      <td>0.0</td>\n",
              "      <td>0.0</td>\n",
              "      <td>0.0</td>\n",
              "      <td>0.0</td>\n",
              "      <td>0.0</td>\n",
              "      <td>0.0</td>\n",
              "      <td>0.0</td>\n",
              "      <td>0.0</td>\n",
              "      <td>0.0</td>\n",
              "      <td>0.0</td>\n",
              "      <td>0.0</td>\n",
              "      <td>...</td>\n",
              "      <td>0.00000</td>\n",
              "      <td>0.0</td>\n",
              "      <td>0.000000</td>\n",
              "      <td>0.0</td>\n",
              "      <td>0.0</td>\n",
              "      <td>0.0</td>\n",
              "      <td>0.0</td>\n",
              "      <td>0.0</td>\n",
              "      <td>0.0</td>\n",
              "      <td>0.0</td>\n",
              "      <td>0.0</td>\n",
              "      <td>0.0</td>\n",
              "      <td>0.0</td>\n",
              "      <td>0.0</td>\n",
              "      <td>0.0</td>\n",
              "      <td>0.0</td>\n",
              "      <td>0.57735</td>\n",
              "      <td>0.0</td>\n",
              "      <td>0.0</td>\n",
              "      <td>0.00000</td>\n",
              "      <td>0.0</td>\n",
              "      <td>0.0</td>\n",
              "      <td>0.0</td>\n",
              "      <td>0.0</td>\n",
              "      <td>0.000000</td>\n",
              "      <td>0.0</td>\n",
              "      <td>0.0</td>\n",
              "      <td>0.0</td>\n",
              "      <td>0.00000</td>\n",
              "      <td>0.0</td>\n",
              "      <td>0.0</td>\n",
              "      <td>0.00000</td>\n",
              "      <td>0.0</td>\n",
              "      <td>0.0</td>\n",
              "      <td>0.0</td>\n",
              "      <td>0.0</td>\n",
              "      <td>0.00000</td>\n",
              "      <td>0.0</td>\n",
              "      <td>0.0</td>\n",
              "      <td>0.0</td>\n",
              "    </tr>\n",
              "    <tr>\n",
              "      <th>3</th>\n",
              "      <td>0.0</td>\n",
              "      <td>0.0</td>\n",
              "      <td>0.0</td>\n",
              "      <td>0.0</td>\n",
              "      <td>0.0</td>\n",
              "      <td>-0.447214</td>\n",
              "      <td>0.0</td>\n",
              "      <td>0.00000</td>\n",
              "      <td>0.0</td>\n",
              "      <td>0.0</td>\n",
              "      <td>0.0</td>\n",
              "      <td>-0.447214</td>\n",
              "      <td>0.0</td>\n",
              "      <td>0.0</td>\n",
              "      <td>0.0</td>\n",
              "      <td>0.0</td>\n",
              "      <td>0.0</td>\n",
              "      <td>0.0</td>\n",
              "      <td>0.0</td>\n",
              "      <td>0.0</td>\n",
              "      <td>0.0</td>\n",
              "      <td>0.0</td>\n",
              "      <td>0.0</td>\n",
              "      <td>0.0</td>\n",
              "      <td>0.0</td>\n",
              "      <td>0.0</td>\n",
              "      <td>0.0</td>\n",
              "      <td>0.0</td>\n",
              "      <td>0.0</td>\n",
              "      <td>0.0</td>\n",
              "      <td>0.0</td>\n",
              "      <td>0.0</td>\n",
              "      <td>0.0</td>\n",
              "      <td>0.0</td>\n",
              "      <td>0.0</td>\n",
              "      <td>0.0</td>\n",
              "      <td>0.0</td>\n",
              "      <td>0.0</td>\n",
              "      <td>0.0</td>\n",
              "      <td>0.0</td>\n",
              "      <td>...</td>\n",
              "      <td>0.00000</td>\n",
              "      <td>0.0</td>\n",
              "      <td>-0.447214</td>\n",
              "      <td>0.0</td>\n",
              "      <td>0.0</td>\n",
              "      <td>0.0</td>\n",
              "      <td>0.0</td>\n",
              "      <td>0.0</td>\n",
              "      <td>0.0</td>\n",
              "      <td>0.0</td>\n",
              "      <td>0.0</td>\n",
              "      <td>0.0</td>\n",
              "      <td>0.0</td>\n",
              "      <td>0.0</td>\n",
              "      <td>0.0</td>\n",
              "      <td>0.0</td>\n",
              "      <td>0.00000</td>\n",
              "      <td>0.0</td>\n",
              "      <td>0.0</td>\n",
              "      <td>0.00000</td>\n",
              "      <td>0.0</td>\n",
              "      <td>0.0</td>\n",
              "      <td>0.0</td>\n",
              "      <td>0.0</td>\n",
              "      <td>0.447214</td>\n",
              "      <td>0.0</td>\n",
              "      <td>0.0</td>\n",
              "      <td>0.0</td>\n",
              "      <td>0.00000</td>\n",
              "      <td>0.0</td>\n",
              "      <td>0.0</td>\n",
              "      <td>0.00000</td>\n",
              "      <td>0.0</td>\n",
              "      <td>0.0</td>\n",
              "      <td>0.0</td>\n",
              "      <td>0.0</td>\n",
              "      <td>0.00000</td>\n",
              "      <td>0.0</td>\n",
              "      <td>0.0</td>\n",
              "      <td>0.0</td>\n",
              "    </tr>\n",
              "    <tr>\n",
              "      <th>4</th>\n",
              "      <td>0.0</td>\n",
              "      <td>0.0</td>\n",
              "      <td>0.0</td>\n",
              "      <td>0.0</td>\n",
              "      <td>0.0</td>\n",
              "      <td>0.000000</td>\n",
              "      <td>0.0</td>\n",
              "      <td>0.00000</td>\n",
              "      <td>0.0</td>\n",
              "      <td>0.0</td>\n",
              "      <td>0.0</td>\n",
              "      <td>0.000000</td>\n",
              "      <td>0.0</td>\n",
              "      <td>0.0</td>\n",
              "      <td>0.0</td>\n",
              "      <td>0.0</td>\n",
              "      <td>0.0</td>\n",
              "      <td>0.0</td>\n",
              "      <td>0.0</td>\n",
              "      <td>0.0</td>\n",
              "      <td>0.0</td>\n",
              "      <td>0.0</td>\n",
              "      <td>0.0</td>\n",
              "      <td>0.0</td>\n",
              "      <td>0.0</td>\n",
              "      <td>0.0</td>\n",
              "      <td>0.0</td>\n",
              "      <td>0.0</td>\n",
              "      <td>0.0</td>\n",
              "      <td>0.0</td>\n",
              "      <td>0.0</td>\n",
              "      <td>0.0</td>\n",
              "      <td>0.0</td>\n",
              "      <td>0.0</td>\n",
              "      <td>0.0</td>\n",
              "      <td>0.0</td>\n",
              "      <td>0.0</td>\n",
              "      <td>0.0</td>\n",
              "      <td>0.0</td>\n",
              "      <td>0.0</td>\n",
              "      <td>...</td>\n",
              "      <td>0.00000</td>\n",
              "      <td>0.0</td>\n",
              "      <td>0.000000</td>\n",
              "      <td>0.0</td>\n",
              "      <td>0.0</td>\n",
              "      <td>0.0</td>\n",
              "      <td>0.0</td>\n",
              "      <td>0.0</td>\n",
              "      <td>0.0</td>\n",
              "      <td>0.0</td>\n",
              "      <td>0.0</td>\n",
              "      <td>0.0</td>\n",
              "      <td>0.0</td>\n",
              "      <td>0.0</td>\n",
              "      <td>0.0</td>\n",
              "      <td>0.0</td>\n",
              "      <td>0.00000</td>\n",
              "      <td>0.0</td>\n",
              "      <td>0.0</td>\n",
              "      <td>0.00000</td>\n",
              "      <td>0.0</td>\n",
              "      <td>0.0</td>\n",
              "      <td>0.0</td>\n",
              "      <td>0.0</td>\n",
              "      <td>0.000000</td>\n",
              "      <td>0.0</td>\n",
              "      <td>0.0</td>\n",
              "      <td>0.0</td>\n",
              "      <td>0.57735</td>\n",
              "      <td>0.0</td>\n",
              "      <td>0.0</td>\n",
              "      <td>-0.57735</td>\n",
              "      <td>0.0</td>\n",
              "      <td>0.0</td>\n",
              "      <td>0.0</td>\n",
              "      <td>0.0</td>\n",
              "      <td>0.00000</td>\n",
              "      <td>0.0</td>\n",
              "      <td>0.0</td>\n",
              "      <td>0.0</td>\n",
              "    </tr>\n",
              "  </tbody>\n",
              "</table>\n",
              "<p>5 rows × 100 columns</p>\n",
              "</div>"
            ],
            "text/plain": [
              "    0    1    2    3    4         5   ...   94   95       96   97   98   99\n",
              "0  0.0  0.0  0.0  0.0  0.0  0.000000  ...  0.0  0.0 -0.57735  0.0  0.0  0.0\n",
              "1  0.0  0.0  0.0  0.0  0.0  0.000000  ...  0.0  0.0  0.00000  0.0  0.0  0.0\n",
              "2  0.0  0.0  0.0  0.0  0.0  0.000000  ...  0.0  0.0  0.00000  0.0  0.0  0.0\n",
              "3  0.0  0.0  0.0  0.0  0.0 -0.447214  ...  0.0  0.0  0.00000  0.0  0.0  0.0\n",
              "4  0.0  0.0  0.0  0.0  0.0  0.000000  ...  0.0  0.0  0.00000  0.0  0.0  0.0\n",
              "\n",
              "[5 rows x 100 columns]"
            ]
          },
          "metadata": {
            "tags": []
          },
          "execution_count": 53
        }
      ]
    },
    {
      "cell_type": "code",
      "metadata": {
        "id": "NdYcMc8UeWuX",
        "colab_type": "code",
        "colab": {}
      },
      "source": [
        "from sklearn.manifold import TSNE\n",
        "\n",
        "tsne = TSNE(perplexity = 20, random_state=101).fit_transform(sentence_final)"
      ],
      "execution_count": 0,
      "outputs": []
    },
    {
      "cell_type": "code",
      "metadata": {
        "id": "IKD_qvV9euEK",
        "colab_type": "code",
        "colab": {}
      },
      "source": [
        ""
      ],
      "execution_count": 0,
      "outputs": []
    },
    {
      "cell_type": "code",
      "metadata": {
        "id": "oM5WYu60efNp",
        "colab_type": "code",
        "outputId": "4867bca2-734a-4d77-c85c-eda09acf594e",
        "colab": {
          "base_uri": "https://localhost:8080/",
          "height": 282
        }
      },
      "source": [
        "plt.scatter(tsne[:, 0], tsne[:, 1])"
      ],
      "execution_count": 0,
      "outputs": [
        {
          "output_type": "execute_result",
          "data": {
            "text/plain": [
              "<matplotlib.collections.PathCollection at 0x7f74e2e49f98>"
            ]
          },
          "metadata": {
            "tags": []
          },
          "execution_count": 98
        },
        {
          "output_type": "display_data",
          "data": {
            "image/png": "[encoded data removed]",
            "text/plain": [
              "<Figure size 432x288 with 1 Axes>"
            ]
          },
          "metadata": {
            "tags": []
          }
        }
      ]
    },
    {
      "cell_type": "markdown",
      "metadata": {
        "id": "UmtIs7rc0Wp2",
        "colab_type": "text"
      },
      "source": [
        "Dimensionality Reduction "
      ]
    },
    {
      "cell_type": "code",
      "metadata": {
        "id": "hW9T-K31WgKQ",
        "colab_type": "code",
        "colab": {}
      },
      "source": [
        "from sklearn.decomposition import PCA\n",
        "pca = PCA(.90)\n",
        "\n",
        "X = pca.fit_transform(x)"
      ],
      "execution_count": 0,
      "outputs": []
    },
    {
      "cell_type": "code",
      "metadata": {
        "id": "trldNE7G026e",
        "colab_type": "code",
        "outputId": "0dcf7098-fefb-425e-cff0-0a864112fefd",
        "colab": {
          "base_uri": "https://localhost:8080/",
          "height": 34
        }
      },
      "source": [
        "X.shape"
      ],
      "execution_count": 0,
      "outputs": [
        {
          "output_type": "execute_result",
          "data": {
            "text/plain": [
              "(18747, 9)"
            ]
          },
          "metadata": {
            "tags": []
          },
          "execution_count": 34
        }
      ]
    },
    {
      "cell_type": "code",
      "metadata": {
        "id": "gtGCvhfLoAre",
        "colab_type": "code",
        "colab": {}
      },
      "source": [
        "from sklearn.manifold import TSNE\n",
        "\n",
        "tsne = TSNE(random_state=101).fit_transform(x)"
      ],
      "execution_count": 0,
      "outputs": []
    },
    {
      "cell_type": "code",
      "metadata": {
        "id": "m7QCdoD7vBqt",
        "colab_type": "code",
        "outputId": "977ab1d1-516f-4495-c1f5-150555a027c0",
        "colab": {
          "base_uri": "https://localhost:8080/",
          "height": 34
        }
      },
      "source": [
        "tsne.shape"
      ],
      "execution_count": 0,
      "outputs": [
        {
          "output_type": "execute_result",
          "data": {
            "text/plain": [
              "(18747, 2)"
            ]
          },
          "metadata": {
            "tags": []
          },
          "execution_count": 43
        }
      ]
    },
    {
      "cell_type": "code",
      "metadata": {
        "id": "hMYJXhCmoTDU",
        "colab_type": "code",
        "outputId": "d7fac24f-47c7-4266-b4bc-642cc2b26059",
        "colab": {
          "base_uri": "https://localhost:8080/",
          "height": 282
        }
      },
      "source": [
        "plt.scatter(tsne[:, 0], tsne[:, 1])"
      ],
      "execution_count": 0,
      "outputs": [
        {
          "output_type": "execute_result",
          "data": {
            "text/plain": [
              "<matplotlib.collections.PathCollection at 0x7f75219186d8>"
            ]
          },
          "metadata": {
            "tags": []
          },
          "execution_count": 44
        },
        {
          "output_type": "display_data",
          "data": {
            "image/png": "[encoded data removed]",
            "text/plain": [
              "<Figure size 432x288 with 1 Axes>"
            ]
          },
          "metadata": {
            "tags": []
          }
        }
      ]
    },
    {
      "cell_type": "code",
      "metadata": {
        "id": "iDRb_ST1h8fp",
        "colab_type": "code",
        "outputId": "6cb08359-aca1-409e-b4ed-c866d2f665ba",
        "colab": {
          "base_uri": "https://localhost:8080/",
          "height": 278
        }
      },
      "source": [
        "!pip install swat"
      ],
      "execution_count": 0,
      "outputs": [
        {
          "output_type": "stream",
          "text": [
            "Collecting swat\n",
            "\u001b[?25l  Downloading https://files.pythonhosted.org/packages/16/74/2bd8e3b2d207a7604ffffe409776caabbdab6c9ad6a7a9133f430f3baa25/swat-1.6.0-cp36-cp36m-manylinux1_x86_64.whl (54.9MB)\n",
            "\u001b[K     |████████████████████████████████| 54.9MB 65kB/s \n",
            "\u001b[?25hRequirement already satisfied: six>=1.9.0 in /usr/local/lib/python3.6/dist-packages (from swat) (1.12.0)\n",
            "Requirement already satisfied: requests in /usr/local/lib/python3.6/dist-packages (from swat) (2.21.0)\n",
            "Requirement already satisfied: pandas>=0.16.0 in /usr/local/lib/python3.6/dist-packages (from swat) (0.25.3)\n",
            "Requirement already satisfied: idna<2.9,>=2.5 in /usr/local/lib/python3.6/dist-packages (from requests->swat) (2.8)\n",
            "Requirement already satisfied: certifi>=2017.4.17 in /usr/local/lib/python3.6/dist-packages (from requests->swat) (2019.11.28)\n",
            "Requirement already satisfied: chardet<3.1.0,>=3.0.2 in /usr/local/lib/python3.6/dist-packages (from requests->swat) (3.0.4)\n",
            "Requirement already satisfied: urllib3<1.25,>=1.21.1 in /usr/local/lib/python3.6/dist-packages (from requests->swat) (1.24.3)\n",
            "Requirement already satisfied: pytz>=2017.2 in /usr/local/lib/python3.6/dist-packages (from pandas>=0.16.0->swat) (2018.9)\n",
            "Requirement already satisfied: numpy>=1.13.3 in /usr/local/lib/python3.6/dist-packages (from pandas>=0.16.0->swat) (1.17.5)\n",
            "Requirement already satisfied: python-dateutil>=2.6.1 in /usr/local/lib/python3.6/dist-packages (from pandas>=0.16.0->swat) (2.6.1)\n",
            "Installing collected packages: swat\n",
            "Successfully installed swat-1.6.0\n"
          ],
          "name": "stdout"
        }
      ]
    },
    {
      "cell_type": "code",
      "metadata": {
        "id": "uxuB5eRIhggg",
        "colab_type": "code",
        "colab": {}
      },
      "source": [
        "import swat\n",
        "import pandas as pd\n",
        "import numpy as np\n",
        "import matplotlib.pyplot as plt\n",
        "import seaborn as sns\n",
        "%matplotlib inline"
      ],
      "execution_count": 0,
      "outputs": []
    },
    {
      "cell_type": "code",
      "metadata": {
        "id": "3ZZf30NFWvtV",
        "colab_type": "code",
        "outputId": "696a284c-abab-4b5f-8a68-8c8febe6e241",
        "colab": {
          "base_uri": "https://localhost:8080/",
          "height": 256
        }
      },
      "source": [
        "data = pd.DataFrame(data = X)\n",
        "data.head()"
      ],
      "execution_count": 0,
      "outputs": [
        {
          "output_type": "execute_result",
          "data": {
            "text/html": [
              "<div>\n",
              "<style scoped>\n",
              "    .dataframe tbody tr th:only-of-type {\n",
              "        vertical-align: middle;\n",
              "    }\n",
              "\n",
              "    .dataframe tbody tr th {\n",
              "        vertical-align: top;\n",
              "    }\n",
              "\n",
              "    .dataframe thead th {\n",
              "        text-align: right;\n",
              "    }\n",
              "</style>\n",
              "<table border=\"1\" class=\"dataframe\">\n",
              "  <thead>\n",
              "    <tr style=\"text-align: right;\">\n",
              "      <th></th>\n",
              "      <th>0</th>\n",
              "      <th>1</th>\n",
              "      <th>2</th>\n",
              "      <th>3</th>\n",
              "      <th>4</th>\n",
              "      <th>5</th>\n",
              "      <th>6</th>\n",
              "      <th>7</th>\n",
              "      <th>8</th>\n",
              "      <th>9</th>\n",
              "      <th>10</th>\n",
              "      <th>11</th>\n",
              "      <th>12</th>\n",
              "      <th>13</th>\n",
              "      <th>14</th>\n",
              "      <th>15</th>\n",
              "      <th>16</th>\n",
              "      <th>17</th>\n",
              "      <th>18</th>\n",
              "      <th>19</th>\n",
              "      <th>20</th>\n",
              "      <th>21</th>\n",
              "      <th>22</th>\n",
              "      <th>23</th>\n",
              "      <th>24</th>\n",
              "      <th>25</th>\n",
              "      <th>26</th>\n",
              "      <th>27</th>\n",
              "      <th>28</th>\n",
              "      <th>29</th>\n",
              "      <th>30</th>\n",
              "      <th>31</th>\n",
              "      <th>32</th>\n",
              "      <th>33</th>\n",
              "      <th>34</th>\n",
              "      <th>35</th>\n",
              "      <th>36</th>\n",
              "      <th>37</th>\n",
              "      <th>38</th>\n",
              "      <th>39</th>\n",
              "      <th>...</th>\n",
              "      <th>645</th>\n",
              "      <th>646</th>\n",
              "      <th>647</th>\n",
              "      <th>648</th>\n",
              "      <th>649</th>\n",
              "      <th>650</th>\n",
              "      <th>651</th>\n",
              "      <th>652</th>\n",
              "      <th>653</th>\n",
              "      <th>654</th>\n",
              "      <th>655</th>\n",
              "      <th>656</th>\n",
              "      <th>657</th>\n",
              "      <th>658</th>\n",
              "      <th>659</th>\n",
              "      <th>660</th>\n",
              "      <th>661</th>\n",
              "      <th>662</th>\n",
              "      <th>663</th>\n",
              "      <th>664</th>\n",
              "      <th>665</th>\n",
              "      <th>666</th>\n",
              "      <th>667</th>\n",
              "      <th>668</th>\n",
              "      <th>669</th>\n",
              "      <th>670</th>\n",
              "      <th>671</th>\n",
              "      <th>672</th>\n",
              "      <th>673</th>\n",
              "      <th>674</th>\n",
              "      <th>675</th>\n",
              "      <th>676</th>\n",
              "      <th>677</th>\n",
              "      <th>678</th>\n",
              "      <th>679</th>\n",
              "      <th>680</th>\n",
              "      <th>681</th>\n",
              "      <th>682</th>\n",
              "      <th>683</th>\n",
              "      <th>684</th>\n",
              "    </tr>\n",
              "  </thead>\n",
              "  <tbody>\n",
              "    <tr>\n",
              "      <th>0</th>\n",
              "      <td>0.973925</td>\n",
              "      <td>-0.003872</td>\n",
              "      <td>-0.002268</td>\n",
              "      <td>0.017813</td>\n",
              "      <td>0.018876</td>\n",
              "      <td>0.001344</td>\n",
              "      <td>0.009364</td>\n",
              "      <td>0.004562</td>\n",
              "      <td>-0.003877</td>\n",
              "      <td>0.002519</td>\n",
              "      <td>0.001475</td>\n",
              "      <td>0.000804</td>\n",
              "      <td>-0.002792</td>\n",
              "      <td>0.004669</td>\n",
              "      <td>-0.006138</td>\n",
              "      <td>0.005169</td>\n",
              "      <td>0.004378</td>\n",
              "      <td>0.005182</td>\n",
              "      <td>0.001017</td>\n",
              "      <td>0.006395</td>\n",
              "      <td>0.002132</td>\n",
              "      <td>-0.001844</td>\n",
              "      <td>0.002574</td>\n",
              "      <td>0.002722</td>\n",
              "      <td>0.000576</td>\n",
              "      <td>0.001938</td>\n",
              "      <td>-0.000814</td>\n",
              "      <td>0.001750</td>\n",
              "      <td>0.003626</td>\n",
              "      <td>-0.001133</td>\n",
              "      <td>-0.001163</td>\n",
              "      <td>-0.000256</td>\n",
              "      <td>0.003633</td>\n",
              "      <td>-0.001302</td>\n",
              "      <td>-0.002177</td>\n",
              "      <td>0.000553</td>\n",
              "      <td>0.006943</td>\n",
              "      <td>-0.001642</td>\n",
              "      <td>0.001196</td>\n",
              "      <td>0.001092</td>\n",
              "      <td>...</td>\n",
              "      <td>-0.000370</td>\n",
              "      <td>-0.000243</td>\n",
              "      <td>0.000406</td>\n",
              "      <td>-0.000257</td>\n",
              "      <td>0.000149</td>\n",
              "      <td>-0.000261</td>\n",
              "      <td>0.000231</td>\n",
              "      <td>-0.000345</td>\n",
              "      <td>-0.000333</td>\n",
              "      <td>-0.000016</td>\n",
              "      <td>0.000044</td>\n",
              "      <td>0.000433</td>\n",
              "      <td>-0.000177</td>\n",
              "      <td>0.000240</td>\n",
              "      <td>0.000387</td>\n",
              "      <td>-0.000005</td>\n",
              "      <td>-0.000063</td>\n",
              "      <td>0.000095</td>\n",
              "      <td>-0.000215</td>\n",
              "      <td>-0.000658</td>\n",
              "      <td>0.000263</td>\n",
              "      <td>-0.000306</td>\n",
              "      <td>-0.000150</td>\n",
              "      <td>-0.000141</td>\n",
              "      <td>0.000099</td>\n",
              "      <td>-0.000528</td>\n",
              "      <td>0.000065</td>\n",
              "      <td>0.000195</td>\n",
              "      <td>-0.000039</td>\n",
              "      <td>-0.000061</td>\n",
              "      <td>0.000171</td>\n",
              "      <td>-0.000052</td>\n",
              "      <td>-0.000032</td>\n",
              "      <td>-0.000149</td>\n",
              "      <td>-0.000076</td>\n",
              "      <td>-0.000205</td>\n",
              "      <td>0.000482</td>\n",
              "      <td>0.000053</td>\n",
              "      <td>-0.000463</td>\n",
              "      <td>0.000003</td>\n",
              "    </tr>\n",
              "    <tr>\n",
              "      <th>1</th>\n",
              "      <td>-0.019999</td>\n",
              "      <td>0.011236</td>\n",
              "      <td>-0.023351</td>\n",
              "      <td>-0.031148</td>\n",
              "      <td>-0.044851</td>\n",
              "      <td>0.008332</td>\n",
              "      <td>-0.017804</td>\n",
              "      <td>0.005645</td>\n",
              "      <td>0.009516</td>\n",
              "      <td>-0.029065</td>\n",
              "      <td>-0.022234</td>\n",
              "      <td>0.002786</td>\n",
              "      <td>0.006376</td>\n",
              "      <td>-0.000043</td>\n",
              "      <td>0.005634</td>\n",
              "      <td>-0.009697</td>\n",
              "      <td>-0.005885</td>\n",
              "      <td>0.000423</td>\n",
              "      <td>-0.004126</td>\n",
              "      <td>-0.011859</td>\n",
              "      <td>-0.006486</td>\n",
              "      <td>0.002298</td>\n",
              "      <td>0.002055</td>\n",
              "      <td>-0.006103</td>\n",
              "      <td>-0.004211</td>\n",
              "      <td>0.000722</td>\n",
              "      <td>0.005113</td>\n",
              "      <td>-0.002033</td>\n",
              "      <td>-0.006252</td>\n",
              "      <td>0.004320</td>\n",
              "      <td>0.005030</td>\n",
              "      <td>-0.003151</td>\n",
              "      <td>0.002361</td>\n",
              "      <td>0.002394</td>\n",
              "      <td>0.004129</td>\n",
              "      <td>0.002288</td>\n",
              "      <td>0.003487</td>\n",
              "      <td>-0.008255</td>\n",
              "      <td>-0.007020</td>\n",
              "      <td>-0.005588</td>\n",
              "      <td>...</td>\n",
              "      <td>0.022194</td>\n",
              "      <td>-0.009691</td>\n",
              "      <td>-0.045464</td>\n",
              "      <td>-0.005583</td>\n",
              "      <td>0.034919</td>\n",
              "      <td>-0.006930</td>\n",
              "      <td>-0.036235</td>\n",
              "      <td>0.029086</td>\n",
              "      <td>-0.039292</td>\n",
              "      <td>0.001189</td>\n",
              "      <td>-0.014685</td>\n",
              "      <td>0.038628</td>\n",
              "      <td>0.046553</td>\n",
              "      <td>-0.009086</td>\n",
              "      <td>-0.010810</td>\n",
              "      <td>-0.017407</td>\n",
              "      <td>0.020195</td>\n",
              "      <td>-0.037840</td>\n",
              "      <td>0.021442</td>\n",
              "      <td>0.019859</td>\n",
              "      <td>0.018686</td>\n",
              "      <td>0.008670</td>\n",
              "      <td>0.002761</td>\n",
              "      <td>-0.046567</td>\n",
              "      <td>0.039390</td>\n",
              "      <td>-0.017812</td>\n",
              "      <td>0.026659</td>\n",
              "      <td>-0.025546</td>\n",
              "      <td>-0.004363</td>\n",
              "      <td>0.012510</td>\n",
              "      <td>-0.041991</td>\n",
              "      <td>0.023100</td>\n",
              "      <td>-0.009676</td>\n",
              "      <td>-0.037438</td>\n",
              "      <td>0.033959</td>\n",
              "      <td>-0.009960</td>\n",
              "      <td>-0.043839</td>\n",
              "      <td>0.013926</td>\n",
              "      <td>0.009394</td>\n",
              "      <td>-0.008778</td>\n",
              "    </tr>\n",
              "    <tr>\n",
              "      <th>2</th>\n",
              "      <td>-0.022856</td>\n",
              "      <td>0.016683</td>\n",
              "      <td>-0.037489</td>\n",
              "      <td>-0.053375</td>\n",
              "      <td>-0.084748</td>\n",
              "      <td>0.021191</td>\n",
              "      <td>-0.054626</td>\n",
              "      <td>0.018045</td>\n",
              "      <td>0.043017</td>\n",
              "      <td>-0.133639</td>\n",
              "      <td>-0.140406</td>\n",
              "      <td>0.021001</td>\n",
              "      <td>0.054110</td>\n",
              "      <td>0.109988</td>\n",
              "      <td>-0.104645</td>\n",
              "      <td>0.068754</td>\n",
              "      <td>0.028922</td>\n",
              "      <td>0.003645</td>\n",
              "      <td>0.010217</td>\n",
              "      <td>0.024212</td>\n",
              "      <td>0.013186</td>\n",
              "      <td>-0.006370</td>\n",
              "      <td>0.004826</td>\n",
              "      <td>0.002383</td>\n",
              "      <td>0.001504</td>\n",
              "      <td>-0.004513</td>\n",
              "      <td>0.001622</td>\n",
              "      <td>0.000940</td>\n",
              "      <td>-0.002086</td>\n",
              "      <td>0.000512</td>\n",
              "      <td>0.001212</td>\n",
              "      <td>0.002235</td>\n",
              "      <td>0.000560</td>\n",
              "      <td>0.004296</td>\n",
              "      <td>0.004027</td>\n",
              "      <td>0.001925</td>\n",
              "      <td>-0.000161</td>\n",
              "      <td>-0.000327</td>\n",
              "      <td>-0.001030</td>\n",
              "      <td>-0.000364</td>\n",
              "      <td>...</td>\n",
              "      <td>-0.002322</td>\n",
              "      <td>0.007039</td>\n",
              "      <td>-0.005370</td>\n",
              "      <td>0.004811</td>\n",
              "      <td>0.001480</td>\n",
              "      <td>0.005753</td>\n",
              "      <td>-0.004171</td>\n",
              "      <td>-0.001357</td>\n",
              "      <td>-0.004372</td>\n",
              "      <td>-0.004499</td>\n",
              "      <td>0.001438</td>\n",
              "      <td>0.001638</td>\n",
              "      <td>0.004721</td>\n",
              "      <td>-0.008473</td>\n",
              "      <td>0.008768</td>\n",
              "      <td>-0.001624</td>\n",
              "      <td>0.013359</td>\n",
              "      <td>-0.004935</td>\n",
              "      <td>-0.007312</td>\n",
              "      <td>0.005511</td>\n",
              "      <td>0.000669</td>\n",
              "      <td>0.000528</td>\n",
              "      <td>0.004973</td>\n",
              "      <td>-0.011246</td>\n",
              "      <td>0.009487</td>\n",
              "      <td>-0.009128</td>\n",
              "      <td>0.006692</td>\n",
              "      <td>0.002445</td>\n",
              "      <td>0.003984</td>\n",
              "      <td>0.003399</td>\n",
              "      <td>-0.008726</td>\n",
              "      <td>0.000378</td>\n",
              "      <td>0.006165</td>\n",
              "      <td>-0.015493</td>\n",
              "      <td>0.013234</td>\n",
              "      <td>-0.007065</td>\n",
              "      <td>-0.022715</td>\n",
              "      <td>0.009391</td>\n",
              "      <td>0.005600</td>\n",
              "      <td>-0.001965</td>\n",
              "    </tr>\n",
              "    <tr>\n",
              "      <th>3</th>\n",
              "      <td>-0.028031</td>\n",
              "      <td>-0.008056</td>\n",
              "      <td>0.090442</td>\n",
              "      <td>-0.031907</td>\n",
              "      <td>0.001594</td>\n",
              "      <td>-0.137964</td>\n",
              "      <td>-0.121196</td>\n",
              "      <td>-0.210378</td>\n",
              "      <td>0.022289</td>\n",
              "      <td>0.229447</td>\n",
              "      <td>-0.138595</td>\n",
              "      <td>-0.066971</td>\n",
              "      <td>0.262828</td>\n",
              "      <td>0.008525</td>\n",
              "      <td>0.109438</td>\n",
              "      <td>0.061347</td>\n",
              "      <td>0.088912</td>\n",
              "      <td>-0.133652</td>\n",
              "      <td>0.122504</td>\n",
              "      <td>-0.161027</td>\n",
              "      <td>0.042473</td>\n",
              "      <td>-0.032294</td>\n",
              "      <td>0.014311</td>\n",
              "      <td>0.042401</td>\n",
              "      <td>0.034641</td>\n",
              "      <td>-0.005592</td>\n",
              "      <td>0.025257</td>\n",
              "      <td>0.015024</td>\n",
              "      <td>0.019300</td>\n",
              "      <td>-0.004787</td>\n",
              "      <td>0.015823</td>\n",
              "      <td>-0.006542</td>\n",
              "      <td>0.019249</td>\n",
              "      <td>-0.010236</td>\n",
              "      <td>0.050494</td>\n",
              "      <td>-0.005709</td>\n",
              "      <td>0.024611</td>\n",
              "      <td>-0.024939</td>\n",
              "      <td>0.038325</td>\n",
              "      <td>-0.011128</td>\n",
              "      <td>...</td>\n",
              "      <td>-0.007335</td>\n",
              "      <td>0.010543</td>\n",
              "      <td>-0.005435</td>\n",
              "      <td>0.009011</td>\n",
              "      <td>0.005416</td>\n",
              "      <td>0.000875</td>\n",
              "      <td>-0.007886</td>\n",
              "      <td>-0.004313</td>\n",
              "      <td>0.002625</td>\n",
              "      <td>-0.003422</td>\n",
              "      <td>-0.003570</td>\n",
              "      <td>0.009573</td>\n",
              "      <td>-0.004905</td>\n",
              "      <td>-0.004630</td>\n",
              "      <td>0.002121</td>\n",
              "      <td>-0.006586</td>\n",
              "      <td>-0.002697</td>\n",
              "      <td>-0.008697</td>\n",
              "      <td>-0.009097</td>\n",
              "      <td>-0.007603</td>\n",
              "      <td>-0.005176</td>\n",
              "      <td>0.008470</td>\n",
              "      <td>-0.006248</td>\n",
              "      <td>0.000984</td>\n",
              "      <td>-0.002080</td>\n",
              "      <td>-0.001616</td>\n",
              "      <td>0.006497</td>\n",
              "      <td>0.010298</td>\n",
              "      <td>0.007614</td>\n",
              "      <td>-0.007140</td>\n",
              "      <td>0.002422</td>\n",
              "      <td>0.001252</td>\n",
              "      <td>-0.012953</td>\n",
              "      <td>-0.002209</td>\n",
              "      <td>-0.004412</td>\n",
              "      <td>-0.012498</td>\n",
              "      <td>0.000822</td>\n",
              "      <td>0.003328</td>\n",
              "      <td>-0.001099</td>\n",
              "      <td>0.010898</td>\n",
              "    </tr>\n",
              "    <tr>\n",
              "      <th>4</th>\n",
              "      <td>-0.036949</td>\n",
              "      <td>-0.004092</td>\n",
              "      <td>-0.104090</td>\n",
              "      <td>-0.078276</td>\n",
              "      <td>0.043908</td>\n",
              "      <td>-0.064389</td>\n",
              "      <td>-0.159048</td>\n",
              "      <td>0.027122</td>\n",
              "      <td>-0.164365</td>\n",
              "      <td>0.207963</td>\n",
              "      <td>0.162927</td>\n",
              "      <td>0.391582</td>\n",
              "      <td>-0.177296</td>\n",
              "      <td>-0.024733</td>\n",
              "      <td>-0.181001</td>\n",
              "      <td>0.410065</td>\n",
              "      <td>-0.206761</td>\n",
              "      <td>0.116621</td>\n",
              "      <td>0.172464</td>\n",
              "      <td>-0.179852</td>\n",
              "      <td>0.074533</td>\n",
              "      <td>-0.080532</td>\n",
              "      <td>-0.042425</td>\n",
              "      <td>0.030571</td>\n",
              "      <td>-0.146885</td>\n",
              "      <td>0.090763</td>\n",
              "      <td>-0.009122</td>\n",
              "      <td>0.009914</td>\n",
              "      <td>0.051026</td>\n",
              "      <td>-0.040889</td>\n",
              "      <td>-0.010598</td>\n",
              "      <td>0.030002</td>\n",
              "      <td>0.052886</td>\n",
              "      <td>-0.044718</td>\n",
              "      <td>0.004516</td>\n",
              "      <td>-0.047187</td>\n",
              "      <td>0.115170</td>\n",
              "      <td>-0.068756</td>\n",
              "      <td>0.020870</td>\n",
              "      <td>0.005624</td>\n",
              "      <td>...</td>\n",
              "      <td>-0.006838</td>\n",
              "      <td>-0.005225</td>\n",
              "      <td>0.006197</td>\n",
              "      <td>0.001506</td>\n",
              "      <td>-0.013763</td>\n",
              "      <td>-0.007160</td>\n",
              "      <td>0.000833</td>\n",
              "      <td>-0.000316</td>\n",
              "      <td>0.003230</td>\n",
              "      <td>0.000560</td>\n",
              "      <td>0.003928</td>\n",
              "      <td>0.000546</td>\n",
              "      <td>-0.002603</td>\n",
              "      <td>-0.007276</td>\n",
              "      <td>0.000369</td>\n",
              "      <td>0.002756</td>\n",
              "      <td>-0.002631</td>\n",
              "      <td>0.000547</td>\n",
              "      <td>-0.005519</td>\n",
              "      <td>-0.002483</td>\n",
              "      <td>0.005550</td>\n",
              "      <td>-0.001113</td>\n",
              "      <td>0.000312</td>\n",
              "      <td>-0.001861</td>\n",
              "      <td>-0.001499</td>\n",
              "      <td>-0.001938</td>\n",
              "      <td>0.003252</td>\n",
              "      <td>0.003584</td>\n",
              "      <td>-0.006973</td>\n",
              "      <td>0.003818</td>\n",
              "      <td>-0.002989</td>\n",
              "      <td>0.008623</td>\n",
              "      <td>0.009519</td>\n",
              "      <td>-0.005484</td>\n",
              "      <td>-0.001496</td>\n",
              "      <td>-0.004381</td>\n",
              "      <td>-0.001892</td>\n",
              "      <td>-0.000381</td>\n",
              "      <td>0.003054</td>\n",
              "      <td>-0.005331</td>\n",
              "    </tr>\n",
              "  </tbody>\n",
              "</table>\n",
              "<p>5 rows × 685 columns</p>\n",
              "</div>"
            ],
            "text/plain": [
              "        0         1         2    ...       682       683       684\n",
              "0  0.973925 -0.003872 -0.002268  ...  0.000053 -0.000463  0.000003\n",
              "1 -0.019999  0.011236 -0.023351  ...  0.013926  0.009394 -0.008778\n",
              "2 -0.022856  0.016683 -0.037489  ...  0.009391  0.005600 -0.001965\n",
              "3 -0.028031 -0.008056  0.090442  ...  0.003328 -0.001099  0.010898\n",
              "4 -0.036949 -0.004092 -0.104090  ... -0.000381  0.003054 -0.005331\n",
              "\n",
              "[5 rows x 685 columns]"
            ]
          },
          "metadata": {
            "tags": []
          },
          "execution_count": 72
        }
      ]
    },
    {
      "cell_type": "code",
      "metadata": {
        "id": "zieSEtHGMn-g",
        "colab_type": "code",
        "outputId": "22642385-5567-45f6-dd10-10d58a4dce8f",
        "colab": {
          "base_uri": "https://localhost:8080/",
          "height": 34
        }
      },
      "source": [
        "print(pca.explained_variance_ratio_.sum())"
      ],
      "execution_count": 0,
      "outputs": [
        {
          "output_type": "stream",
          "text": [
            "0.9001682724421944\n"
          ],
          "name": "stdout"
        }
      ]
    },
    {
      "cell_type": "code",
      "metadata": {
        "id": "1O4tTDwNx1ui",
        "colab_type": "code",
        "colab": {}
      },
      "source": [
        ""
      ],
      "execution_count": 0,
      "outputs": []
    },
    {
      "cell_type": "markdown",
      "metadata": {
        "id": "ygGhGKBj3MJv",
        "colab_type": "text"
      },
      "source": [
        "Using Elbow Method to find optimal number of clusters"
      ]
    },
    {
      "cell_type": "code",
      "metadata": {
        "id": "sxdopjXN3Lkm",
        "colab_type": "code",
        "colab": {}
      },
      "source": [
        "from sklearn.cluster import KMeans\n",
        "\n",
        "def Calculate_WSS(points, kmax):\n",
        "  sse = []\n",
        "\n",
        "  for k in range(1, kmax+1):\n",
        "    kmeans = KMeans(n_clusters = k).fit(points)\n",
        "\n",
        "    centroids = kmeans.cluster_centers_\n",
        "    pred_clusters = kmeans.predict(points)\n",
        "\n",
        "    curr_see = 0\n",
        "\n",
        "    for i in range(len(points)):\n",
        "      curr_center = centroids[pred_clusters[i]]\n",
        "      curr_see += (points[i, 0] - curr_center[0]) ** 2 + (points[i, 1] - curr_center[1]) ** 2\n",
        "      \n",
        "    sse.append(curr_see)\n",
        "  return sse"
      ],
      "execution_count": 0,
      "outputs": []
    },
    {
      "cell_type": "code",
      "metadata": {
        "id": "2PMrnTOBYXb1",
        "colab_type": "code",
        "outputId": "1a817a01-6962-407b-86ce-e8635176a70a",
        "colab": {
          "base_uri": "https://localhost:8080/",
          "height": 282
        }
      },
      "source": [
        "from matplotlib import pyplot as plt\n",
        "\n",
        "plt.scatter(X[:, 0], X[:, 1])"
      ],
      "execution_count": 0,
      "outputs": [
        {
          "output_type": "execute_result",
          "data": {
            "text/plain": [
              "<matplotlib.collections.PathCollection at 0x7fca0c6a48d0>"
            ]
          },
          "metadata": {
            "tags": []
          },
          "execution_count": 76
        },
        {
          "output_type": "display_data",
          "data": {
            "image/png": "[encoded data removed]",
            "text/plain": [
              "<Figure size 432x288 with 1 Axes>"
            ]
          },
          "metadata": {
            "tags": []
          }
        }
      ]
    },
    {
      "cell_type": "code",
      "metadata": {
        "id": "oOgz19gzY5YB",
        "colab_type": "code",
        "outputId": "50731053-4e13-4b31-fda9-0967a4207992",
        "colab": {
          "base_uri": "https://localhost:8080/",
          "height": 451
        }
      },
      "source": [
        "result"
      ],
      "execution_count": 0,
      "outputs": [
        {
          "output_type": "execute_result",
          "data": {
            "text/plain": [
              "[669.3513691675881,\n",
              " 231.87617432938418,\n",
              " 490.8137553838405,\n",
              " 231.70370431895168,\n",
              " 55.12024132451902,\n",
              " 216.86899967353187,\n",
              " 228.42440203461263,\n",
              " 225.97893048559283,\n",
              " 52.73335096989925,\n",
              " 53.802284719455876,\n",
              " 55.98615873360009,\n",
              " 50.92813223158704,\n",
              " 50.214740340403125,\n",
              " 46.054205583552054,\n",
              " 45.04350614845437,\n",
              " 221.43625725733827,\n",
              " 49.40982307779605,\n",
              " 46.011594051821774,\n",
              " 51.16662367174865,\n",
              " 45.001782000892334,\n",
              " 49.11323589900784,\n",
              " 48.31640626149039,\n",
              " 47.02815682943688,\n",
              " 45.474621378788484,\n",
              " 44.76366996484391]"
            ]
          },
          "metadata": {
            "tags": []
          },
          "execution_count": 83
        }
      ]
    },
    {
      "cell_type": "code",
      "metadata": {
        "id": "rIOZWgYV3jV_",
        "colab_type": "code",
        "colab": {}
      },
      "source": [
        "result = Calculate_WSS(X, 25)"
      ],
      "execution_count": 0,
      "outputs": []
    },
    {
      "cell_type": "code",
      "metadata": {
        "id": "Y8PLkx3N6Dfh",
        "colab_type": "code",
        "outputId": "c9bb8f6a-e735-47e4-827d-009a8762a36d",
        "colab": {
          "base_uri": "https://localhost:8080/",
          "height": 451
        }
      },
      "source": [
        "list2 = list()\n",
        "for i in range(1, 26):\n",
        "  list2.append(i)\n",
        "\n",
        "list2"
      ],
      "execution_count": 0,
      "outputs": [
        {
          "output_type": "execute_result",
          "data": {
            "text/plain": [
              "[1,\n",
              " 2,\n",
              " 3,\n",
              " 4,\n",
              " 5,\n",
              " 6,\n",
              " 7,\n",
              " 8,\n",
              " 9,\n",
              " 10,\n",
              " 11,\n",
              " 12,\n",
              " 13,\n",
              " 14,\n",
              " 15,\n",
              " 16,\n",
              " 17,\n",
              " 18,\n",
              " 19,\n",
              " 20,\n",
              " 21,\n",
              " 22,\n",
              " 23,\n",
              " 24,\n",
              " 25]"
            ]
          },
          "metadata": {
            "tags": []
          },
          "execution_count": 84
        }
      ]
    },
    {
      "cell_type": "code",
      "metadata": {
        "id": "UPEjCsrr6Qk9",
        "colab_type": "code",
        "outputId": "f3928c9d-6195-4489-e0fd-73dca97730e7",
        "colab": {
          "base_uri": "https://localhost:8080/",
          "height": 286
        }
      },
      "source": [
        "import matplotlib.pyplot as plt\n",
        "\n",
        "plt.plot(list2, result)"
      ],
      "execution_count": 0,
      "outputs": [
        {
          "output_type": "execute_result",
          "data": {
            "text/plain": [
              "[<matplotlib.lines.Line2D at 0x7fca09555c18>]"
            ]
          },
          "metadata": {
            "tags": []
          },
          "execution_count": 86
        },
        {
          "output_type": "display_data",
          "data": {
            "image/png": "[encoded data removed]",
            "text/plain": [
              "<Figure size 432x288 with 1 Axes>"
            ]
          },
          "metadata": {
            "tags": []
          }
        }
      ]
    },
    {
      "cell_type": "markdown",
      "metadata": {
        "id": "Xqdf_UTW6lTA",
        "colab_type": "text"
      },
      "source": [
        "optimum k here seems to be 5"
      ]
    },
    {
      "cell_type": "markdown",
      "metadata": {
        "id": "yglEjHvL0Hf1",
        "colab_type": "text"
      },
      "source": [
        "Using Silhoutte algorithm to find the optimum number of clusters"
      ]
    },
    {
      "cell_type": "code",
      "metadata": {
        "id": "i2MWRaiQcmgk",
        "colab_type": "code",
        "outputId": "21373707-431a-4861-b61b-0fd6c222fc2d",
        "colab": {
          "base_uri": "https://localhost:8080/",
          "height": 1000
        }
      },
      "source": [
        "from sklearn.datasets import make_blobs\n",
        "from sklearn.cluster import KMeans\n",
        "from sklearn.metrics import silhouette_samples, silhouette_score\n",
        "\n",
        "import matplotlib.pyplot as plt\n",
        "import matplotlib.cm as cm\n",
        "import numpy as np\n",
        "\n",
        "\n",
        "range_n_clusters = [ 5, 6, 7]\n",
        "\n",
        "for n_clusters in range_n_clusters:\n",
        "    # Create a subplot with 1 row and 2 columns\n",
        "    fig, (ax1, ax2) = plt.subplots(1, 2)\n",
        "    fig.set_size_inches(18, 7)\n",
        "\n",
        "    # The 1st subplot is the silhouette plot\n",
        "    # The silhouette coefficient can range from -1, 1 but in this example all\n",
        "    # lie within [-0.1, 1]\n",
        "    ax1.set_xlim([-0.1, 1])\n",
        "    # The (n_clusters+1)*10 is for inserting blank space between silhouette\n",
        "    # plots of individual clusters, to demarcate them clearly.\n",
        "    ax1.set_ylim([0, len(X) + (n_clusters + 1) * 10])\n",
        "\n",
        "    # Initialize the clusterer with n_clusters value and a random generator\n",
        "    # seed of 10 for reproducibility.\n",
        "    clusterer = KMeans(n_clusters=n_clusters, random_state=10)\n",
        "    cluster_labels = clusterer.fit_predict(X)\n",
        "\n",
        "    # The silhouette_score gives the average value for all the samples.\n",
        "    # This gives a perspective into the density and separation of the formed\n",
        "    # clusters\n",
        "    silhouette_avg = silhouette_score(X, cluster_labels)\n",
        "    print(\"For n_clusters =\", n_clusters,\n",
        "          \"The average silhouette_score is :\", silhouette_avg)\n",
        "\n",
        "    # Compute the silhouette scores for each sample\n",
        "    sample_silhouette_values = silhouette_samples(X, cluster_labels)\n",
        "\n",
        "    y_lower = 10\n",
        "    for i in range(n_clusters):\n",
        "        # Aggregate the silhouette scores for samples belonging to\n",
        "        # cluster i, and sort them\n",
        "        ith_cluster_silhouette_values = \\\n",
        "            sample_silhouette_values[cluster_labels == i]\n",
        "\n",
        "        ith_cluster_silhouette_values.sort()\n",
        "\n",
        "        size_cluster_i = ith_cluster_silhouette_values.shape[0]\n",
        "        y_upper = y_lower + size_cluster_i\n",
        "\n",
        "        color = cm.nipy_spectral(float(i) / n_clusters)\n",
        "        ax1.fill_betweenx(np.arange(y_lower, y_upper),\n",
        "                          0, ith_cluster_silhouette_values,\n",
        "                          facecolor=color, edgecolor=color, alpha=0.7)\n",
        "\n",
        "        # Label the silhouette plots with their cluster numbers at the middle\n",
        "        ax1.text(-0.05, y_lower + 0.5 * size_cluster_i, str(i))\n",
        "\n",
        "        # Compute the new y_lower for next plot\n",
        "        y_lower = y_upper + 10  # 10 for the 0 samples\n",
        "\n",
        "    ax1.set_title(\"The silhouette plot for the various clusters.\")\n",
        "    ax1.set_xlabel(\"The silhouette coefficient values\")\n",
        "    ax1.set_ylabel(\"Cluster label\")\n",
        "\n",
        "    # The vertical line for average silhouette score of all the values\n",
        "    ax1.axvline(x=silhouette_avg, color=\"red\", linestyle=\"--\")\n",
        "\n",
        "    ax1.set_yticks([])  # Clear the yaxis labels / ticks\n",
        "    ax1.set_xticks([-0.1, 0, 0.2, 0.4, 0.6, 0.8, 1])\n",
        "\n",
        "    # 2nd Plot showing the actual clusters formed\n",
        "    colors = cm.nipy_spectral(cluster_labels.astype(float) / n_clusters)\n",
        "    ax2.scatter(X[:, 0], X[:, 1], marker='.', s=30, lw=0, alpha=0.7,\n",
        "                c=colors, edgecolor='k')\n",
        "\n",
        "    # Labeling the clusters\n",
        "    centers = clusterer.cluster_centers_\n",
        "    # Draw white circles at cluster centers\n",
        "    ax2.scatter(centers[:, 0], centers[:, 1], marker='o',\n",
        "                c=\"white\", alpha=1, s=200, edgecolor='k')\n",
        "\n",
        "    for i, c in enumerate(centers):\n",
        "        ax2.scatter(c[0], c[1], marker='$%d$' % i, alpha=1,\n",
        "                    s=50, edgecolor='k')\n",
        "\n",
        "    ax2.set_title(\"The visualization of the clustered data.\")\n",
        "    ax2.set_xlabel(\"Feature space for the 1st feature\")\n",
        "    ax2.set_ylabel(\"Feature space for the 2nd feature\")\n",
        "\n",
        "    plt.suptitle((\"Silhouette analysis for KMeans clustering on sample data \"\n",
        "                  \"with n_clusters = %d\" % n_clusters),\n",
        "                 fontsize=14, fontweight='bold')\n",
        "\n",
        "plt.show()"
      ],
      "execution_count": 0,
      "outputs": [
        {
          "output_type": "stream",
          "text": [
            "For n_clusters = 5 The average silhouette_score is : 0.09413207686291418\n",
            "For n_clusters = 6 The average silhouette_score is : 0.09969654339098001\n",
            "For n_clusters = 7 The average silhouette_score is : 0.10459153024088474\n"
          ],
          "name": "stdout"
        },
        {
          "output_type": "display_data",
          "data": {
            "image/png": "[encoded data removed]",
            "text/plain": [
              "<Figure size 1296x504 with 2 Axes>"
            ]
          },
          "metadata": {
            "tags": []
          }
        },
        {
          "output_type": "display_data",
          "data": {
            "image/png": "[encoded data removed]",
            "text/plain": [
              "<Figure size 1296x504 with 2 Axes>"
            ]
          },
          "metadata": {
            "tags": []
          }
        },
        {
          "output_type": "display_data",
          "data": {
            "image/png": "[encoded data removed]",
            "text/plain": [
              "<Figure size 1296x504 with 2 Axes>"
            ]
          },
          "metadata": {
            "tags": []
          }
        }
      ]
    },
    {
      "cell_type": "code",
      "metadata": {
        "id": "7yJNK6EiXC_Z",
        "colab_type": "code",
        "colab": {}
      },
      "source": [
        "from sklearn.cluster import KMeans\n",
        "kmeans = KMeans(n_clusters = 21, max_iter = 600)\n",
        "\n",
        "fitted = kmeans.fit(X)\n",
        "predicted_values = kmeans.predict(X)\n",
        "\n"
      ],
      "execution_count": 0,
      "outputs": []
    },
    {
      "cell_type": "markdown",
      "metadata": {
        "id": "XEbK-gDw0sri",
        "colab_type": "text"
      },
      "source": [
        "Plotting the cluster visualization on a 2d space"
      ]
    },
    {
      "cell_type": "markdown",
      "metadata": {
        "id": "5ju3EGAEMmvO",
        "colab_type": "text"
      },
      "source": [
        "The data can also be visualized efficiently using tsne and pca but very less time due to end sem exams "
      ]
    },
    {
      "cell_type": "code",
      "metadata": {
        "id": "TGrvei3jYtEf",
        "colab_type": "code",
        "outputId": "cd9cdca0-f17b-4d93-998e-cd93c2c6eb28",
        "colab": {
          "base_uri": "https://localhost:8080/",
          "height": 265
        }
      },
      "source": [
        "plt.scatter(X[:, 0], X[:, 1], c=predicted_values, s=50, cmap='viridis')\n",
        "\n",
        "centers = kmeans.cluster_centers_\n",
        "plt.scatter(centers[:, 0], centers[:, 1],c='black', s=300, alpha=0.6);"
      ],
      "execution_count": 0,
      "outputs": [
        {
          "output_type": "display_data",
          "data": {
            "image/png": "[encoded data removed]",
            "text/plain": [
              "<Figure size 432x288 with 1 Axes>"
            ]
          },
          "metadata": {
            "tags": []
          }
        }
      ]
    },
    {
      "cell_type": "markdown",
      "metadata": {
        "id": "c3wn3qFT0vKR",
        "colab_type": "text"
      },
      "source": [
        "Fining the important words which effected cluster the most"
      ]
    },
    {
      "cell_type": "code",
      "metadata": {
        "id": "PjAbg-dfGJgL",
        "colab_type": "code",
        "colab": {}
      },
      "source": [
        "import numpy as np\n",
        "\n",
        "def get_top_features_cluster(tf_idf_array, prediction, n_feats):\n",
        "    labels = np.unique(prediction)\n",
        "    dfs = []\n",
        "    for label in labels:\n",
        "        id_temp = np.where(prediction==label) # indices for each cluster\n",
        "        x_means = np.mean(tf_idf_array[id_temp], axis = 0) # returns average score across cluster\n",
        "        sorted_means = np.argsort(x_means)[::-1][:n_feats] # indices with top 20 scores\n",
        "        features = tfidf_vectorizer.get_feature_names()\n",
        "        best_features = [(features[i], x_means[i]) for i in sorted_means]\n",
        "        df = pd.DataFrame(best_features, columns = ['features', 'score'])\n",
        "        dfs.append(df)\n",
        "    return dfs\n",
        "dfs = get_top_features_cluster(X, predicted_values, 15)"
      ],
      "execution_count": 0,
      "outputs": []
    },
    {
      "cell_type": "code",
      "metadata": {
        "id": "W79alQ-TL5OR",
        "colab_type": "code",
        "outputId": "9dc41097-f03d-4810-a06c-457f2ad4ef6f",
        "colab": {
          "base_uri": "https://localhost:8080/",
          "height": 520
        }
      },
      "source": [
        "dfs[15]"
      ],
      "execution_count": 0,
      "outputs": [
        {
          "output_type": "execute_result",
          "data": {
            "text/html": [
              "<div>\n",
              "<style scoped>\n",
              "    .dataframe tbody tr th:only-of-type {\n",
              "        vertical-align: middle;\n",
              "    }\n",
              "\n",
              "    .dataframe tbody tr th {\n",
              "        vertical-align: top;\n",
              "    }\n",
              "\n",
              "    .dataframe thead th {\n",
              "        text-align: right;\n",
              "    }\n",
              "</style>\n",
              "<table border=\"1\" class=\"dataframe\">\n",
              "  <thead>\n",
              "    <tr style=\"text-align: right;\">\n",
              "      <th></th>\n",
              "      <th>features</th>\n",
              "      <th>score</th>\n",
              "    </tr>\n",
              "  </thead>\n",
              "  <tbody>\n",
              "    <tr>\n",
              "      <th>0</th>\n",
              "      <td>impeding</td>\n",
              "      <td>0.556889</td>\n",
              "    </tr>\n",
              "    <tr>\n",
              "      <th>1</th>\n",
              "      <td>investigator</td>\n",
              "      <td>0.449970</td>\n",
              "    </tr>\n",
              "    <tr>\n",
              "      <th>2</th>\n",
              "      <td>proceeding</td>\n",
              "      <td>0.390834</td>\n",
              "    </tr>\n",
              "    <tr>\n",
              "      <th>3</th>\n",
              "      <td>communication</td>\n",
              "      <td>0.374020</td>\n",
              "    </tr>\n",
              "    <tr>\n",
              "      <th>4</th>\n",
              "      <td>information</td>\n",
              "      <td>0.313825</td>\n",
              "    </tr>\n",
              "    <tr>\n",
              "      <th>5</th>\n",
              "      <td>official</td>\n",
              "      <td>0.310278</td>\n",
              "    </tr>\n",
              "    <tr>\n",
              "      <th>6</th>\n",
              "      <td>evgeny</td>\n",
              "      <td>0.000000</td>\n",
              "    </tr>\n",
              "    <tr>\n",
              "      <th>7</th>\n",
              "      <td>evolved</td>\n",
              "      <td>0.000000</td>\n",
              "    </tr>\n",
              "    <tr>\n",
              "      <th>8</th>\n",
              "      <td>evgeniy</td>\n",
              "      <td>0.000000</td>\n",
              "    </tr>\n",
              "    <tr>\n",
              "      <th>9</th>\n",
              "      <td>exa</td>\n",
              "      <td>0.000000</td>\n",
              "    </tr>\n",
              "    <tr>\n",
              "      <th>10</th>\n",
              "      <td>ex</td>\n",
              "      <td>0.000000</td>\n",
              "    </tr>\n",
              "    <tr>\n",
              "      <th>11</th>\n",
              "      <td>ewerk</td>\n",
              "      <td>0.000000</td>\n",
              "    </tr>\n",
              "    <tr>\n",
              "      <th>12</th>\n",
              "      <td>ew</td>\n",
              "      <td>0.000000</td>\n",
              "    </tr>\n",
              "    <tr>\n",
              "      <th>13</th>\n",
              "      <td>evolution</td>\n",
              "      <td>0.000000</td>\n",
              "    </tr>\n",
              "    <tr>\n",
              "      <th>14</th>\n",
              "      <td>evid</td>\n",
              "      <td>0.000000</td>\n",
              "    </tr>\n",
              "  </tbody>\n",
              "</table>\n",
              "</div>"
            ],
            "text/plain": [
              "         features     score\n",
              "0        impeding  0.556889\n",
              "1    investigator  0.449970\n",
              "2      proceeding  0.390834\n",
              "3   communication  0.374020\n",
              "4     information  0.313825\n",
              "5        official  0.310278\n",
              "6          evgeny  0.000000\n",
              "7         evolved  0.000000\n",
              "8         evgeniy  0.000000\n",
              "9             exa  0.000000\n",
              "10             ex  0.000000\n",
              "11          ewerk  0.000000\n",
              "12             ew  0.000000\n",
              "13      evolution  0.000000\n",
              "14           evid  0.000000"
            ]
          },
          "metadata": {
            "tags": []
          },
          "execution_count": 32
        }
      ]
    }
  ]
}